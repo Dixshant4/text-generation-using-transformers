{
  "cells": [
    {
      "cell_type": "markdown",
      "id": "0df50c3a",
      "metadata": {
        "id": "0df50c3a"
      },
      "source": [
        "# CSC413 Lab 8: Text Generation with Transformers\n",
        "\n",
        "In this lab, we will build a generative transformer to generate\n",
        "new lines that emulates the TV show [Friends](https://www.imdb.com/title/tt0108778/).\n",
        "In order to do so, we will leverage\n",
        "Andrej Karpathy's implementation of GPT2 called the\n",
        "[nanoGPT](https://github.com/karpathy/nanoGPT).\n",
        "This particular implementation uses a small number of components and\n",
        "focuses on the essential ideas behind the GPT2 model.\n",
        "\n",
        "Instead of training a GPT model from scratch, we will *fine-tune*\n",
        "a pre-trained model. This reduces training time necessary to achieve\n",
        "a reasonable measure of performance.\n",
        "\n",
        "By the end of this lab, you will be able to:\n",
        "\n",
        "- Fine-tune a transformer model on a new data set.\n",
        "- Trace the execution of a transformer model to explain its inner working.\n",
        "- Compare the batching approach used here and in the pervious lab.\n",
        "- Explain the ethical issues involved in applying large language models.\n",
        "\n",
        "Acknowledgements:\n",
        "\n",
        "- The nanoGPT implementation is from https://github.com/karpathy/nanoGPT\n",
        "- Data is from https://convokit.cornell.edu/documentation/friends.html\n",
        "- The Byte Pair Encoding tokenizer is from https://github.com/openai/tiktoken\n",
        "- GPT2 Model was introduced in the paper [Language Models are Unsupervised Multitask Learners](https://insightcivic.s3.us-east-1.amazonaws.com/language-models.pdf)\n",
        "\n",
        "Please work in groups of 1-2 during the lab.\n",
        "\n",
        "## Submission\n",
        "\n",
        "If you are working with a partner, start by creating a group on Markus.\n",
        "If you are working alone, click \"Working Alone\".\n",
        "\n",
        "Submit the ipynb file `lab08.pdf` on Markus\n",
        "**containing all your solutions to the Graded Task**s.\n",
        "Your notebook file must contain your code **and outputs** where applicable,\n",
        "including printed lines and images.\n",
        "Your TA will not run your code for the purpose of grading.\n",
        "\n",
        "For this lab, you should submit the following:\n",
        "\n",
        "- Part 1. Your code to generate the list `uts`. (1 point)\n",
        "- Part 1. Your explanation for why the tokenization method needs to be consistent. (1 point)\n",
        "- Part 1. Your explanation of why the target tensor is an \"offset\" of the input tensor. (1 point)\n",
        "- Part 2. Your implementation of the `generate` function (4 points) and 1 points for a sensible test of your design. (5 points)\n",
        "- Part 2. Your explanation of the relationship between `lm_head` and `wte`. (1 point)\n",
        "- Part 2. Your result for the shape of `x` in the `GPT.forward()` method. (1 point)\n",
        "- Part 2. Your implementation of the missing attention code. (4 points)\n",
        "- Part 2. Your computation of the shape of `(q @ k.transpose(-2, -1))` in the causal self attention module (1 point)\n",
        "- Part 2. Your explantion of why masking makes sense intuitively for causal self attention. (1 point)\n",
        "- Part 2. Your computation of the number of parameters in a GPT2 model. (3 points)\n",
        "\n",
        "## Part 1. Data\n",
        "\n",
        "The \"Friends Corpus\" can be downloaded through the ConvKit package on\n",
        "Python. You can read more about the data\n",
        "[here](https://convokit.cornell.edu/documentation/friends.html).\n",
        "\n",
        "Let's install this package, and explore the data set."
      ]
    },
    {
      "cell_type": "code",
      "execution_count": null,
      "id": "d07723d0",
      "metadata": {
        "colab": {
          "base_uri": "https://localhost:8080/"
        },
        "id": "d07723d0",
        "outputId": "fe28ff10-bf51-49af-ec7a-7d105abb56ec"
      },
      "outputs": [
        {
          "output_type": "stream",
          "name": "stdout",
          "text": [
            "Collecting convokit\n",
            "  Downloading convokit-3.0.0.tar.gz (183 kB)\n",
            "\u001b[2K     \u001b[90m━━━━━━━━━━━━━━━━━━━━━━━━━━━━━━━━━━━━━━━━\u001b[0m \u001b[32m183.2/183.2 kB\u001b[0m \u001b[31m1.3 MB/s\u001b[0m eta \u001b[36m0:00:00\u001b[0m\n",
            "\u001b[?25h  Installing build dependencies ... \u001b[?25l\u001b[?25hdone\n",
            "  Getting requirements to build wheel ... \u001b[?25l\u001b[?25hdone\n",
            "  Preparing metadata (pyproject.toml) ... \u001b[?25l\u001b[?25hdone\n",
            "Requirement already satisfied: matplotlib>=3.0.0 in /usr/local/lib/python3.10/dist-packages (from convokit) (3.7.1)\n",
            "Requirement already satisfied: pandas>=0.23.4 in /usr/local/lib/python3.10/dist-packages (from convokit) (2.0.3)\n",
            "Collecting msgpack-numpy>=0.4.3.2 (from convokit)\n",
            "  Downloading msgpack_numpy-0.4.8-py2.py3-none-any.whl (6.9 kB)\n",
            "Requirement already satisfied: spacy>=2.3.5 in /usr/local/lib/python3.10/dist-packages (from convokit) (3.7.4)\n",
            "Requirement already satisfied: scipy>=1.1.0 in /usr/local/lib/python3.10/dist-packages (from convokit) (1.11.4)\n",
            "Requirement already satisfied: scikit-learn>=0.20.0 in /usr/local/lib/python3.10/dist-packages (from convokit) (1.2.2)\n",
            "Requirement already satisfied: nltk>=3.4 in /usr/local/lib/python3.10/dist-packages (from convokit) (3.8.1)\n",
            "Collecting dill>=0.2.9 (from convokit)\n",
            "  Downloading dill-0.3.8-py3-none-any.whl (116 kB)\n",
            "\u001b[2K     \u001b[90m━━━━━━━━━━━━━━━━━━━━━━━━━━━━━━━━━━━━━━━━\u001b[0m \u001b[32m116.3/116.3 kB\u001b[0m \u001b[31m14.2 MB/s\u001b[0m eta \u001b[36m0:00:00\u001b[0m\n",
            "\u001b[?25hRequirement already satisfied: joblib>=0.13.2 in /usr/local/lib/python3.10/dist-packages (from convokit) (1.3.2)\n",
            "Collecting clean-text>=0.6.0 (from convokit)\n",
            "  Downloading clean_text-0.6.0-py3-none-any.whl (11 kB)\n",
            "Collecting unidecode>=1.1.1 (from convokit)\n",
            "  Downloading Unidecode-1.3.8-py3-none-any.whl (235 kB)\n",
            "\u001b[2K     \u001b[90m━━━━━━━━━━━━━━━━━━━━━━━━━━━━━━━━━━━━━━━━\u001b[0m \u001b[32m235.5/235.5 kB\u001b[0m \u001b[31m31.7 MB/s\u001b[0m eta \u001b[36m0:00:00\u001b[0m\n",
            "\u001b[?25hRequirement already satisfied: tqdm>=4.64.0 in /usr/local/lib/python3.10/dist-packages (from convokit) (4.66.2)\n",
            "Collecting pymongo>=4.0 (from convokit)\n",
            "  Downloading pymongo-4.6.3-cp310-cp310-manylinux_2_17_x86_64.manylinux2014_x86_64.whl (676 kB)\n",
            "\u001b[2K     \u001b[90m━━━━━━━━━━━━━━━━━━━━━━━━━━━━━━━━━━━━━━━━\u001b[0m \u001b[32m676.9/676.9 kB\u001b[0m \u001b[31m45.9 MB/s\u001b[0m eta \u001b[36m0:00:00\u001b[0m\n",
            "\u001b[?25hRequirement already satisfied: pyyaml>=5.4.1 in /usr/local/lib/python3.10/dist-packages (from convokit) (6.0.1)\n",
            "Collecting dnspython>=1.16.0 (from convokit)\n",
            "  Downloading dnspython-2.6.1-py3-none-any.whl (307 kB)\n",
            "\u001b[2K     \u001b[90m━━━━━━━━━━━━━━━━━━━━━━━━━━━━━━━━━━━━━━━━\u001b[0m \u001b[32m307.7/307.7 kB\u001b[0m \u001b[31m36.5 MB/s\u001b[0m eta \u001b[36m0:00:00\u001b[0m\n",
            "\u001b[?25hCollecting emoji<2.0.0,>=1.0.0 (from clean-text>=0.6.0->convokit)\n",
            "  Downloading emoji-1.7.0.tar.gz (175 kB)\n",
            "\u001b[2K     \u001b[90m━━━━━━━━━━━━━━━━━━━━━━━━━━━━━━━━━━━━━━━━\u001b[0m \u001b[32m175.4/175.4 kB\u001b[0m \u001b[31m26.6 MB/s\u001b[0m eta \u001b[36m0:00:00\u001b[0m\n",
            "\u001b[?25h  Preparing metadata (setup.py) ... \u001b[?25l\u001b[?25hdone\n",
            "Collecting ftfy<7.0,>=6.0 (from clean-text>=0.6.0->convokit)\n",
            "  Downloading ftfy-6.2.0-py3-none-any.whl (54 kB)\n",
            "\u001b[2K     \u001b[90m━━━━━━━━━━━━━━━━━━━━━━━━━━━━━━━━━━━━━━━━\u001b[0m \u001b[32m54.4/54.4 kB\u001b[0m \u001b[31m8.9 MB/s\u001b[0m eta \u001b[36m0:00:00\u001b[0m\n",
            "\u001b[?25hRequirement already satisfied: contourpy>=1.0.1 in /usr/local/lib/python3.10/dist-packages (from matplotlib>=3.0.0->convokit) (1.2.0)\n",
            "Requirement already satisfied: cycler>=0.10 in /usr/local/lib/python3.10/dist-packages (from matplotlib>=3.0.0->convokit) (0.12.1)\n",
            "Requirement already satisfied: fonttools>=4.22.0 in /usr/local/lib/python3.10/dist-packages (from matplotlib>=3.0.0->convokit) (4.50.0)\n",
            "Requirement already satisfied: kiwisolver>=1.0.1 in /usr/local/lib/python3.10/dist-packages (from matplotlib>=3.0.0->convokit) (1.4.5)\n",
            "Requirement already satisfied: numpy>=1.20 in /usr/local/lib/python3.10/dist-packages (from matplotlib>=3.0.0->convokit) (1.25.2)\n",
            "Requirement already satisfied: packaging>=20.0 in /usr/local/lib/python3.10/dist-packages (from matplotlib>=3.0.0->convokit) (24.0)\n",
            "Requirement already satisfied: pillow>=6.2.0 in /usr/local/lib/python3.10/dist-packages (from matplotlib>=3.0.0->convokit) (9.4.0)\n",
            "Requirement already satisfied: pyparsing>=2.3.1 in /usr/local/lib/python3.10/dist-packages (from matplotlib>=3.0.0->convokit) (3.1.2)\n",
            "Requirement already satisfied: python-dateutil>=2.7 in /usr/local/lib/python3.10/dist-packages (from matplotlib>=3.0.0->convokit) (2.8.2)\n",
            "Requirement already satisfied: msgpack>=0.5.2 in /usr/local/lib/python3.10/dist-packages (from msgpack-numpy>=0.4.3.2->convokit) (1.0.8)\n",
            "Requirement already satisfied: click in /usr/local/lib/python3.10/dist-packages (from nltk>=3.4->convokit) (8.1.7)\n",
            "Requirement already satisfied: regex>=2021.8.3 in /usr/local/lib/python3.10/dist-packages (from nltk>=3.4->convokit) (2023.12.25)\n",
            "Requirement already satisfied: pytz>=2020.1 in /usr/local/lib/python3.10/dist-packages (from pandas>=0.23.4->convokit) (2023.4)\n",
            "Requirement already satisfied: tzdata>=2022.1 in /usr/local/lib/python3.10/dist-packages (from pandas>=0.23.4->convokit) (2024.1)\n",
            "Requirement already satisfied: threadpoolctl>=2.0.0 in /usr/local/lib/python3.10/dist-packages (from scikit-learn>=0.20.0->convokit) (3.4.0)\n",
            "Requirement already satisfied: spacy-legacy<3.1.0,>=3.0.11 in /usr/local/lib/python3.10/dist-packages (from spacy>=2.3.5->convokit) (3.0.12)\n",
            "Requirement already satisfied: spacy-loggers<2.0.0,>=1.0.0 in /usr/local/lib/python3.10/dist-packages (from spacy>=2.3.5->convokit) (1.0.5)\n",
            "Requirement already satisfied: murmurhash<1.1.0,>=0.28.0 in /usr/local/lib/python3.10/dist-packages (from spacy>=2.3.5->convokit) (1.0.10)\n",
            "Requirement already satisfied: cymem<2.1.0,>=2.0.2 in /usr/local/lib/python3.10/dist-packages (from spacy>=2.3.5->convokit) (2.0.8)\n",
            "Requirement already satisfied: preshed<3.1.0,>=3.0.2 in /usr/local/lib/python3.10/dist-packages (from spacy>=2.3.5->convokit) (3.0.9)\n",
            "Requirement already satisfied: thinc<8.3.0,>=8.2.2 in /usr/local/lib/python3.10/dist-packages (from spacy>=2.3.5->convokit) (8.2.3)\n",
            "Requirement already satisfied: wasabi<1.2.0,>=0.9.1 in /usr/local/lib/python3.10/dist-packages (from spacy>=2.3.5->convokit) (1.1.2)\n",
            "Requirement already satisfied: srsly<3.0.0,>=2.4.3 in /usr/local/lib/python3.10/dist-packages (from spacy>=2.3.5->convokit) (2.4.8)\n",
            "Requirement already satisfied: catalogue<2.1.0,>=2.0.6 in /usr/local/lib/python3.10/dist-packages (from spacy>=2.3.5->convokit) (2.0.10)\n",
            "Requirement already satisfied: weasel<0.4.0,>=0.1.0 in /usr/local/lib/python3.10/dist-packages (from spacy>=2.3.5->convokit) (0.3.4)\n",
            "Requirement already satisfied: typer<0.10.0,>=0.3.0 in /usr/local/lib/python3.10/dist-packages (from spacy>=2.3.5->convokit) (0.9.4)\n",
            "Requirement already satisfied: smart-open<7.0.0,>=5.2.1 in /usr/local/lib/python3.10/dist-packages (from spacy>=2.3.5->convokit) (6.4.0)\n",
            "Requirement already satisfied: requests<3.0.0,>=2.13.0 in /usr/local/lib/python3.10/dist-packages (from spacy>=2.3.5->convokit) (2.31.0)\n",
            "Requirement already satisfied: pydantic!=1.8,!=1.8.1,<3.0.0,>=1.7.4 in /usr/local/lib/python3.10/dist-packages (from spacy>=2.3.5->convokit) (2.6.4)\n",
            "Requirement already satisfied: jinja2 in /usr/local/lib/python3.10/dist-packages (from spacy>=2.3.5->convokit) (3.1.3)\n",
            "Requirement already satisfied: setuptools in /usr/local/lib/python3.10/dist-packages (from spacy>=2.3.5->convokit) (67.7.2)\n",
            "Requirement already satisfied: langcodes<4.0.0,>=3.2.0 in /usr/local/lib/python3.10/dist-packages (from spacy>=2.3.5->convokit) (3.3.0)\n",
            "Requirement already satisfied: wcwidth<0.3.0,>=0.2.12 in /usr/local/lib/python3.10/dist-packages (from ftfy<7.0,>=6.0->clean-text>=0.6.0->convokit) (0.2.13)\n",
            "Requirement already satisfied: annotated-types>=0.4.0 in /usr/local/lib/python3.10/dist-packages (from pydantic!=1.8,!=1.8.1,<3.0.0,>=1.7.4->spacy>=2.3.5->convokit) (0.6.0)\n",
            "Requirement already satisfied: pydantic-core==2.16.3 in /usr/local/lib/python3.10/dist-packages (from pydantic!=1.8,!=1.8.1,<3.0.0,>=1.7.4->spacy>=2.3.5->convokit) (2.16.3)\n",
            "Requirement already satisfied: typing-extensions>=4.6.1 in /usr/local/lib/python3.10/dist-packages (from pydantic!=1.8,!=1.8.1,<3.0.0,>=1.7.4->spacy>=2.3.5->convokit) (4.10.0)\n",
            "Requirement already satisfied: six>=1.5 in /usr/local/lib/python3.10/dist-packages (from python-dateutil>=2.7->matplotlib>=3.0.0->convokit) (1.16.0)\n",
            "Requirement already satisfied: charset-normalizer<4,>=2 in /usr/local/lib/python3.10/dist-packages (from requests<3.0.0,>=2.13.0->spacy>=2.3.5->convokit) (3.3.2)\n",
            "Requirement already satisfied: idna<4,>=2.5 in /usr/local/lib/python3.10/dist-packages (from requests<3.0.0,>=2.13.0->spacy>=2.3.5->convokit) (3.6)\n",
            "Requirement already satisfied: urllib3<3,>=1.21.1 in /usr/local/lib/python3.10/dist-packages (from requests<3.0.0,>=2.13.0->spacy>=2.3.5->convokit) (2.0.7)\n",
            "Requirement already satisfied: certifi>=2017.4.17 in /usr/local/lib/python3.10/dist-packages (from requests<3.0.0,>=2.13.0->spacy>=2.3.5->convokit) (2024.2.2)\n",
            "Requirement already satisfied: blis<0.8.0,>=0.7.8 in /usr/local/lib/python3.10/dist-packages (from thinc<8.3.0,>=8.2.2->spacy>=2.3.5->convokit) (0.7.11)\n",
            "Requirement already satisfied: confection<1.0.0,>=0.0.1 in /usr/local/lib/python3.10/dist-packages (from thinc<8.3.0,>=8.2.2->spacy>=2.3.5->convokit) (0.1.4)\n",
            "Requirement already satisfied: cloudpathlib<0.17.0,>=0.7.0 in /usr/local/lib/python3.10/dist-packages (from weasel<0.4.0,>=0.1.0->spacy>=2.3.5->convokit) (0.16.0)\n",
            "Requirement already satisfied: MarkupSafe>=2.0 in /usr/local/lib/python3.10/dist-packages (from jinja2->spacy>=2.3.5->convokit) (2.1.5)\n",
            "Building wheels for collected packages: convokit, emoji\n",
            "  Building wheel for convokit (pyproject.toml) ... \u001b[?25l\u001b[?25hdone\n",
            "  Created wheel for convokit: filename=convokit-3.0.0-py3-none-any.whl size=216707 sha256=42f375b6b4a1a87588bb4f4cf240fa79f74877fdcd7e1902330660fe0d5dca9e\n",
            "  Stored in directory: /root/.cache/pip/wheels/c4/89/8c/2677fdb888588b6f93cb6ac86bdfb020f1f1c33e0d5525b231\n",
            "  Building wheel for emoji (setup.py) ... \u001b[?25l\u001b[?25hdone\n",
            "  Created wheel for emoji: filename=emoji-1.7.0-py3-none-any.whl size=171034 sha256=ac6dfb248860bec9036d336445218802916025ee65d4be2c85645c807da616c4\n",
            "  Stored in directory: /root/.cache/pip/wheels/31/8a/8c/315c9e5d7773f74b33d5ed33f075b49c6eaeb7cedbb86e2cf8\n",
            "Successfully built convokit emoji\n",
            "Installing collected packages: emoji, unidecode, msgpack-numpy, ftfy, dnspython, dill, pymongo, clean-text, convokit\n",
            "Successfully installed clean-text-0.6.0 convokit-3.0.0 dill-0.3.8 dnspython-2.6.1 emoji-1.7.0 ftfy-6.2.0 msgpack-numpy-0.4.8 pymongo-4.6.3 unidecode-1.3.8\n"
          ]
        }
      ],
      "source": [
        "%pip install convokit"
      ]
    },
    {
      "cell_type": "code",
      "execution_count": null,
      "id": "ba56c84b",
      "metadata": {
        "id": "ba56c84b"
      },
      "outputs": [],
      "source": [
        "import convokit"
      ]
    },
    {
      "cell_type": "code",
      "execution_count": null,
      "id": "ebf68b49",
      "metadata": {
        "colab": {
          "base_uri": "https://localhost:8080/"
        },
        "id": "ebf68b49",
        "outputId": "9456d323-309a-4be8-9169-832b91ab27f1"
      },
      "outputs": [
        {
          "output_type": "stream",
          "name": "stdout",
          "text": [
            "Downloading friends-corpus to /root/.convokit/downloads/friends-corpus\n",
            "Downloading friends-corpus from http://zissou.infosci.cornell.edu/convokit/datasets/friends-corpus/friends-corpus.zip (6.1MB)... Done\n",
            "No configuration file found at /root/.convokit/config.yml; writing with contents: \n",
            "# Default Backend Parameters\n",
            "db_host: localhost:27017\n",
            "data_directory: ~/.convokit/saved-corpora\n",
            "default_backend: mem\n"
          ]
        }
      ],
      "source": [
        "corpus = convokit.Corpus(convokit.download('friends-corpus'))"
      ]
    },
    {
      "cell_type": "markdown",
      "id": "d0357230",
      "metadata": {
        "id": "d0357230"
      },
      "source": [
        "**Task**: Run the code below, which iterates through the first 10 utterances\n",
        "of the show. How is each utterance formatted? What do the `speaker`\n",
        "and `text` field mean?"
      ]
    },
    {
      "cell_type": "code",
      "execution_count": null,
      "id": "6f40ef3b",
      "metadata": {
        "colab": {
          "base_uri": "https://localhost:8080/"
        },
        "id": "6f40ef3b",
        "outputId": "aeb4091b-029d-491d-af76-107bfbd2412a"
      },
      "outputs": [
        {
          "output_type": "stream",
          "name": "stdout",
          "text": [
            "Utterance(id: 's01_e01_c01_u001', conversation_id: s01_e01_c01_u001, reply-to: None, speaker: Speaker(id: 'Monica Geller', vectors: [], meta: ConvoKitMeta({})), timestamp: None, text: \"There's nothing to tell! He's just some guy I work with!\", vectors: [], meta: ConvoKitMeta({'tokens': [['There', \"'s\", 'nothing', 'to', 'tell', '!'], ['He', \"'s\", 'just', 'some', 'guy', 'I', 'work', 'with', '!']], 'character_entities': [[], [[0, 1, 'Paul the Wine Guy'], [4, 5, 'Paul the Wine Guy'], [5, 6, 'Monica Geller']]], 'emotion': None, 'caption': None, 'transcript_with_note': None, 'tokens_with_note': None}))\n",
            "Utterance(id: 's01_e01_c01_u002', conversation_id: s01_e01_c01_u001, reply-to: s01_e01_c01_u001, speaker: Speaker(id: 'Joey Tribbiani', vectors: [], meta: ConvoKitMeta({})), timestamp: None, text: \"C'mon, you're going out with the guy! There's gotta be something wrong with him!\", vectors: [], meta: ConvoKitMeta({'tokens': [[\"C'mon\", ',', 'you', \"'re\", 'going', 'out', 'with', 'the', 'guy', '!'], ['There', \"'s\", 'got', 'ta', 'be', 'something', 'wrong', 'with', 'him', '!']], 'character_entities': [[[2, 3, 'Monica Geller'], [8, 9, 'Paul the Wine Guy']], [[8, 9, 'Paul the Wine Guy']]], 'emotion': None, 'caption': None, 'transcript_with_note': None, 'tokens_with_note': None}))\n",
            "Utterance(id: 's01_e01_c01_u003', conversation_id: s01_e01_c01_u001, reply-to: s01_e01_c01_u002, speaker: Speaker(id: 'Chandler Bing', vectors: [], meta: ConvoKitMeta({})), timestamp: None, text: 'All right Joey, be nice. So does he have a hump? A hump and a hairpiece?', vectors: [], meta: ConvoKitMeta({'tokens': [['All', 'right', 'Joey', ',', 'be', 'nice', '.'], ['So', 'does', 'he', 'have', 'a', 'hump', '?'], ['A', 'hump', 'and', 'a', 'hairpiece', '?']], 'character_entities': [[[2, 3, 'Joey Tribbiani']], [[2, 3, 'Paul the Wine Guy']], []], 'emotion': None, 'caption': None, 'transcript_with_note': None, 'tokens_with_note': None}))\n",
            "Utterance(id: 's01_e01_c01_u004', conversation_id: s01_e01_c01_u001, reply-to: s01_e01_c01_u003, speaker: Speaker(id: 'Phoebe Buffay', vectors: [], meta: ConvoKitMeta({})), timestamp: None, text: 'Wait, does he eat chalk?', vectors: [], meta: ConvoKitMeta({'tokens': [['Wait', ',', 'does', 'he', 'eat', 'chalk', '?']], 'character_entities': [[[3, 4, 'Paul the Wine Guy']]], 'emotion': None, 'caption': None, 'transcript_with_note': None, 'tokens_with_note': None}))\n",
            "Utterance(id: 's01_e01_c01_u005', conversation_id: s01_e01_c01_u001, reply-to: s01_e01_c01_u004, speaker: Speaker(id: 'TRANSCRIPT_NOTE', vectors: [], meta: ConvoKitMeta({})), timestamp: None, text: '', vectors: [], meta: ConvoKitMeta({'tokens': [], 'character_entities': [], 'emotion': None, 'caption': None, 'transcript_with_note': '(They all stare, bemused.)', 'tokens_with_note': [['(', 'They', 'all', 'stare', ',', 'bemused', '.', ')']]}))\n",
            "Utterance(id: 's01_e01_c01_u006', conversation_id: s01_e01_c01_u001, reply-to: s01_e01_c01_u005, speaker: Speaker(id: 'Phoebe Buffay', vectors: [], meta: ConvoKitMeta({})), timestamp: None, text: \"Just, 'cause, I don't want her to go through what I went through with Carl- oh!\", vectors: [], meta: ConvoKitMeta({'tokens': [['Just', ',', \"'\", 'cause', ',', 'I', 'do', \"n't\", 'want', 'her', 'to', 'go', 'through', 'what', 'I', 'went', 'through', 'with', 'Carl', '-', 'oh', '!']], 'character_entities': [[[5, 6, 'Phoebe Buffay'], [9, 10, 'Monica Geller'], [14, 15, 'Phoebe Buffay'], [18, 19, \"Carl (Rachel's date)\"]]], 'emotion': None, 'caption': None, 'transcript_with_note': None, 'tokens_with_note': None}))\n",
            "Utterance(id: 's01_e01_c01_u007', conversation_id: s01_e01_c01_u001, reply-to: s01_e01_c01_u006, speaker: Speaker(id: 'Monica Geller', vectors: [], meta: ConvoKitMeta({})), timestamp: None, text: \"Okay, everybody relax. This is not even a date. It's just two people going out to dinner and- not having sex.\", vectors: [], meta: ConvoKitMeta({'tokens': [['Okay', ',', 'everybody', 'relax', '.'], ['This', 'is', 'not', 'even', 'a', 'date', '.'], ['It', \"'s\", 'just', 'two', 'people', 'going', 'out', 'to', 'dinner', 'and', '-', 'not', 'having', 'sex', '.']], 'character_entities': [[], [], []], 'emotion': None, 'caption': None, 'transcript_with_note': None, 'tokens_with_note': None}))\n",
            "Utterance(id: 's01_e01_c01_u008', conversation_id: s01_e01_c01_u001, reply-to: s01_e01_c01_u007, speaker: Speaker(id: 'Chandler Bing', vectors: [], meta: ConvoKitMeta({})), timestamp: None, text: 'Sounds like a date to me.', vectors: [], meta: ConvoKitMeta({'tokens': [['Sounds', 'like', 'a', 'date', 'to', 'me', '.']], 'character_entities': [[[5, 6, 'Chandler Bing']]], 'emotion': None, 'caption': None, 'transcript_with_note': None, 'tokens_with_note': None}))\n",
            "Utterance(id: 's01_e01_c01_u009', conversation_id: s01_e01_c01_u001, reply-to: s01_e01_c01_u008, speaker: Speaker(id: 'TRANSCRIPT_NOTE', vectors: [], meta: ConvoKitMeta({})), timestamp: None, text: '', vectors: [], meta: ConvoKitMeta({'tokens': [], 'character_entities': [], 'emotion': None, 'caption': None, 'transcript_with_note': '[Time Lapse]', 'tokens_with_note': [['[', 'Time', 'Lapse', ']']]}))\n",
            "Utterance(id: 's01_e01_c01_u010', conversation_id: s01_e01_c01_u001, reply-to: s01_e01_c01_u009, speaker: Speaker(id: 'Chandler Bing', vectors: [], meta: ConvoKitMeta({})), timestamp: None, text: \"Alright, so I'm back in high school, I'm standing in the middle of the cafeteria, and I realize I am totally naked.\", vectors: [], meta: ConvoKitMeta({'tokens': [['Alright', ',', 'so', 'I', \"'m\", 'back', 'in', 'high', 'school', ',', 'I', \"'m\", 'standing', 'in', 'the', 'middle', 'of', 'the', 'cafeteria', ',', 'and', 'I', 'realize', 'I', 'am', 'totally', 'naked', '.']], 'character_entities': [[[3, 4, 'Chandler Bing'], [10, 11, 'Chandler Bing'], [21, 22, 'Chandler Bing'], [23, 24, 'Chandler Bing']]], 'emotion': None, 'caption': None, 'transcript_with_note': None, 'tokens_with_note': None}))\n"
          ]
        }
      ],
      "source": [
        "for i, utterance in enumerate(corpus.iter_utterances()):\n",
        "    print(utterance)\n",
        "    if (i >= 9):\n",
        "        break\n",
        "# Each utterance is formaated like a disctionary with key-value pairs. The speaker\n",
        "# field contains information about the charecter saying the line\n",
        "# the text field contains the line that was said by the speaker"
      ]
    },
    {
      "cell_type": "markdown",
      "id": "713e7564",
      "metadata": {
        "id": "713e7564"
      },
      "source": [
        "**Graded Task**: Create a list of strings called `uts` that contains\n",
        "all utterances made by your favourite (of the 6) main character of the show.\n",
        "\n",
        "If you need help, check the documentation [https://convokit.cornell.edu/documentation/]"
      ]
    },
    {
      "cell_type": "code",
      "execution_count": null,
      "id": "cf0cd046",
      "metadata": {
        "id": "cf0cd046"
      },
      "outputs": [],
      "source": [
        "character = 'Monica Geller' # OR 'Chandler Bing' OR 'Phoebe Buffay' OR ...\n",
        "uts = []\n",
        "for i, utterance in enumerate(corpus.iter_utterances()):\n",
        "  if utterance.speaker.id == character:\n",
        "    uts.append(utterance.text)\n",
        "\n",
        "# print(uts[:10])\n",
        " # TODO\n",
        "\n"
      ]
    },
    {
      "cell_type": "markdown",
      "id": "c493e86e",
      "metadata": {
        "id": "c493e86e"
      },
      "source": [
        "Please include the output of this next line in your solution"
      ]
    },
    {
      "cell_type": "code",
      "execution_count": null,
      "id": "cce37f65",
      "metadata": {
        "id": "cce37f65",
        "colab": {
          "base_uri": "https://localhost:8080/"
        },
        "outputId": "26885489-6c20-4ce3-fbe8-72d9c1ea90a3"
      },
      "outputs": [
        {
          "output_type": "stream",
          "name": "stdout",
          "text": [
            "8498\n"
          ]
        }
      ],
      "source": [
        "print(len(uts))"
      ]
    },
    {
      "cell_type": "markdown",
      "id": "6d853b29",
      "metadata": {
        "id": "6d853b29"
      },
      "source": [
        "**Task**: Run the below code. This code combines these lines into a\n",
        "large string for training, and a large string for validation.\n",
        "We will index ranges in this large string for use in a minibatch---i.e.\n",
        "a minibatch of data will consist of a substring in this large string.\n",
        "This substring may start in the middle of an utterance and may contain\n",
        "multiple utterances---and that turns out to be okay!\n",
        "Our neural network still manages to learn what an utterance looks\n",
        "like and emulate it.\n",
        "\n",
        "Since this approach is simpler to implement than the batching approach\n",
        "seen in the previous lab, it is more often used.\n",
        "\n",
        "We will use 90% of the data for training, and 10% of the data\n",
        "for validation."
      ]
    },
    {
      "cell_type": "code",
      "execution_count": null,
      "id": "c5bf9073",
      "metadata": {
        "id": "c5bf9073"
      },
      "outputs": [],
      "source": [
        "train_split = 0.9\n",
        "n = len(uts)\n",
        "\n",
        "train_data_str = '\\n'.join(uts[:int(n*train_split)]) # returns a string having joined all the sentences, so each index is now a character\n",
        "val_data_str = '\\n'.join(uts[int(n*train_split):])\n",
        "# print(len(train_data_str))"
      ]
    },
    {
      "cell_type": "markdown",
      "id": "8d325b81",
      "metadata": {
        "id": "8d325b81"
      },
      "source": [
        "**Task**: Notice that we split the utterances so that the earlier utterances\n",
        "are in the training set, and the later utterances (i.e., later in the TV show)\n",
        "are in the validation set. Why is this method preferable to randomly splitting\n",
        "the utterances into training and validation?"
      ]
    },
    {
      "cell_type": "code",
      "execution_count": null,
      "id": "4367f40d",
      "metadata": {
        "id": "4367f40d"
      },
      "outputs": [],
      "source": [
        "# This will hellp retain context awareness. In speech, sentences can refer to things in the past,\n",
        "# and hence if if shuffle the ordering of the sentences then these references may be misinterpreted by the\n",
        "# model and will lead to innacurate learning patterns"
      ]
    },
    {
      "cell_type": "markdown",
      "id": "319b0669",
      "metadata": {
        "id": "319b0669"
      },
      "source": [
        "**Task**: Why do we not set aside a test set?"
      ]
    },
    {
      "cell_type": "code",
      "execution_count": null,
      "id": "dd1a60f3",
      "metadata": {
        "id": "dd1a60f3"
      },
      "outputs": [],
      "source": [
        "# Doesnt make sense as we are generating new data, so there isnt a dataset we can\n",
        "# compare the new output to."
      ]
    },
    {
      "cell_type": "markdown",
      "id": "6742ae32",
      "metadata": {
        "id": "6742ae32"
      },
      "source": [
        "Just like in the previous lab, we will *tokenize* our text.\n",
        "Modern models use a tokenization strategy called\n",
        "[Byte Pair Encoding](https://en.wikipedia.org/wiki/Byte_pair_encoding),\n",
        "which tokenize text into common into **sub-word tokens**.\n",
        "Sub-word tokens split words into commonly occuring (and thus meaningful) parts.\n",
        "For example, the word \"utterance\" could be split\n",
        "into \"utter\" and \"ance\". The model would learn about these constinuent\n",
        "tokens in different contexts, helping the model generalize better.\n",
        "\n",
        "We will use the Byte Pair Encoding (BPE) tokenizer from the\n",
        "`tiktoken` library. Let's install and import this library."
      ]
    },
    {
      "cell_type": "code",
      "execution_count": null,
      "id": "820b7bc7",
      "metadata": {
        "id": "820b7bc7",
        "colab": {
          "base_uri": "https://localhost:8080/"
        },
        "outputId": "28392cac-9d61-47db-e0a0-2031700b2aae"
      },
      "outputs": [
        {
          "output_type": "stream",
          "name": "stdout",
          "text": [
            "Collecting tiktoken\n",
            "  Downloading tiktoken-0.6.0-cp310-cp310-manylinux_2_17_x86_64.manylinux2014_x86_64.whl (1.8 MB)\n",
            "\u001b[2K     \u001b[90m━━━━━━━━━━━━━━━━━━━━━━━━━━━━━━━━━━━━━━━━\u001b[0m \u001b[32m1.8/1.8 MB\u001b[0m \u001b[31m14.1 MB/s\u001b[0m eta \u001b[36m0:00:00\u001b[0m\n",
            "\u001b[?25hRequirement already satisfied: regex>=2022.1.18 in /usr/local/lib/python3.10/dist-packages (from tiktoken) (2023.12.25)\n",
            "Requirement already satisfied: requests>=2.26.0 in /usr/local/lib/python3.10/dist-packages (from tiktoken) (2.31.0)\n",
            "Requirement already satisfied: charset-normalizer<4,>=2 in /usr/local/lib/python3.10/dist-packages (from requests>=2.26.0->tiktoken) (3.3.2)\n",
            "Requirement already satisfied: idna<4,>=2.5 in /usr/local/lib/python3.10/dist-packages (from requests>=2.26.0->tiktoken) (3.6)\n",
            "Requirement already satisfied: urllib3<3,>=1.21.1 in /usr/local/lib/python3.10/dist-packages (from requests>=2.26.0->tiktoken) (2.0.7)\n",
            "Requirement already satisfied: certifi>=2017.4.17 in /usr/local/lib/python3.10/dist-packages (from requests>=2.26.0->tiktoken) (2024.2.2)\n",
            "Installing collected packages: tiktoken\n",
            "Successfully installed tiktoken-0.6.0\n"
          ]
        }
      ],
      "source": [
        "%pip install tiktoken"
      ]
    },
    {
      "cell_type": "code",
      "execution_count": null,
      "id": "bf2c64e5",
      "metadata": {
        "id": "bf2c64e5"
      },
      "outputs": [],
      "source": [
        "import tiktoken"
      ]
    },
    {
      "cell_type": "markdown",
      "id": "612b18d6",
      "metadata": {
        "id": "612b18d6"
      },
      "source": [
        "**Graded Task**: We will be fine-tuning a pre-trained GPT2 model.\n",
        "Explain why it is important for us to use the same tokenization\n",
        "method as is used in the original GPT2 model whose weights we will be\n",
        "using."
      ]
    },
    {
      "cell_type": "code",
      "execution_count": null,
      "id": "d01a5788",
      "metadata": {
        "id": "d01a5788"
      },
      "outputs": [],
      "source": [
        "# Your explanation goes here\n",
        "# Since the weights were learned from a specific tokenization method which toeknizes\n",
        "# strings using a certain set of rules, if we dont use the same tokens to represent\n",
        "# the strings then the model will interpret some tokens to have different meanings\n",
        "# as a different set of rules is now being used to convert strings into tokens.\n",
        "# This is not desirable.\n"
      ]
    },
    {
      "cell_type": "markdown",
      "id": "ef4d4648",
      "metadata": {
        "id": "ef4d4648"
      },
      "source": [
        "Now, let's retrieve the original GPT2 model."
      ]
    },
    {
      "cell_type": "code",
      "execution_count": null,
      "id": "674edc60",
      "metadata": {
        "id": "674edc60"
      },
      "outputs": [],
      "source": [
        "enc = tiktoken.get_encoding(\"gpt2\")\n",
        "\n",
        "train_ids = enc.encode_ordinary(train_data_str)\n",
        "val_ids = enc.encode_ordinary(val_data_str)"
      ]
    },
    {
      "cell_type": "markdown",
      "id": "9dc3a7fe",
      "metadata": {
        "id": "9dc3a7fe"
      },
      "source": [
        "**Task**: How many tokens are in the training and validation sets?\n",
        "How does this compare with the number of *words* in each data set\n",
        "(computed using the `str.split()` method)?\n",
        "What about the number of *characters*?"
      ]
    },
    {
      "cell_type": "code",
      "execution_count": null,
      "id": "85f3940f",
      "metadata": {
        "id": "85f3940f",
        "colab": {
          "base_uri": "https://localhost:8080/"
        },
        "outputId": "37ed0130-41bb-4eab-89c2-d6ba061fe66e"
      },
      "outputs": [
        {
          "output_type": "stream",
          "name": "stdout",
          "text": [
            "112149  number of tokens\n",
            "74572  number of words\n",
            "388894  number of characters\n"
          ]
        }
      ],
      "source": [
        "print(len(train_ids), \" number of tokens\") # number of tokens\n",
        "print(len(train_data_str.split()), \" number of words\") # number of words\n",
        "print(len(train_data_str), ' number of characters') # number of characters\n",
        "\n",
        "# there are more tokens than there are words. This may be due to the way\n",
        "# bytepair encoding works, as it splits words up into their roots before encoding them"
      ]
    },
    {
      "cell_type": "markdown",
      "id": "67afc519",
      "metadata": {
        "id": "67afc519"
      },
      "source": [
        "**Task**: Run the below code, which will save the above numpy arrays in a file.\n",
        "This way, we can use the `np.memmap` function, which creates a memory-map\n",
        "to an array stored in a binary file on disk. This approach is useful for\n",
        "accessing segments of a large file on disk, which we will be doing."
      ]
    },
    {
      "cell_type": "code",
      "execution_count": null,
      "id": "89dd57d5",
      "metadata": {
        "id": "89dd57d5"
      },
      "outputs": [],
      "source": [
        "import numpy as np\n",
        "import os\n",
        "\n",
        "data_dir = 'friends_gpt2'\n",
        "os.makedirs(data_dir, exist_ok=True)\n",
        "\n",
        "# export to bin files\n",
        "train_ids = np.array(train_ids, dtype=np.uint16)\n",
        "val_ids = np.array(val_ids, dtype=np.uint16)\n",
        "train_ids.tofile(os.path.join(data_dir, 'train.bin'))\n",
        "val_ids.tofile(os.path.join(data_dir, 'val.bin'))"
      ]
    },
    {
      "cell_type": "code",
      "execution_count": null,
      "id": "e602cd2c",
      "metadata": {
        "id": "e602cd2c"
      },
      "outputs": [],
      "source": [
        "# create a memory map\n",
        "train_data = np.memmap(os.path.join(data_dir, 'train.bin'), dtype=np.uint16, mode='r')\n",
        "val_data = np.memmap(os.path.join(data_dir, 'val.bin'), dtype=np.uint16, mode='r')"
      ]
    },
    {
      "cell_type": "markdown",
      "id": "b8164cef",
      "metadata": {
        "id": "b8164cef"
      },
      "source": [
        "**Task**: Use the `get_batch` function below to extract a sample input/output\n",
        "from this data set. Here, we will be using the approach shown in\n",
        "the generative RNN lecture, where the model generates the next token given the\n",
        "previous context."
      ]
    },
    {
      "cell_type": "code",
      "execution_count": null,
      "id": "1f53ad0a",
      "metadata": {
        "id": "1f53ad0a"
      },
      "outputs": [],
      "source": [
        "import torch\n",
        "\n",
        "def get_batch(data, block_size, batch_size, device):\n",
        "    \"\"\"\n",
        "    Return a minibatch of data. This function is not deterministic.\n",
        "    Calling this function multiple times will result in multiple different\n",
        "    return values.\n",
        "\n",
        "    Parameters:\n",
        "        `data` - a numpy array (e.g., created via a call to np.memmap)\n",
        "        `block_size` - the length of each sequence\n",
        "        `batch_size` - the number of sequences in the batch\n",
        "        `device` - the device to place the returned PyTorch tensor\n",
        "\n",
        "    Returns: A tuple of PyTorch tensors (x, t), where\n",
        "        `x` - represents the input tokens, with shape (batch_size, block_size)\n",
        "        `y` - represents the target output tokens, with shape (batch_size, block_size)\n",
        "    \"\"\"\n",
        "    ix = torch.randint(len(data) - block_size, (batch_size,))\n",
        "    x = torch.stack([torch.from_numpy((data[i:i+block_size]).astype(np.int64)) for i in ix])\n",
        "    t = torch.stack([torch.from_numpy((data[i+1:i+1+block_size]).astype(np.int64)) for i in ix])\n",
        "    if 'cuda' in device:\n",
        "        # pin arrays x,t, which allows us to move them to GPU asynchronously\n",
        "        #  (non_blocking=True)\n",
        "        x, t = x.pin_memory().to(device, non_blocking=True), t.pin_memory().to(device, non_blocking=True)\n",
        "    else:\n",
        "        x, t = x.to(device), t.to(device)\n",
        "    return x, t"
      ]
    },
    {
      "cell_type": "code",
      "execution_count": null,
      "id": "6deb9080",
      "metadata": {
        "id": "6deb9080",
        "colab": {
          "base_uri": "https://localhost:8080/"
        },
        "outputId": "9cc141b2-825b-482b-cc02-f414b269b19c"
      },
      "outputs": [
        {
          "output_type": "execute_result",
          "data": {
            "text/plain": [
              "(tensor([[ 821,  407, 8066, 4483,  340]], device='cuda:0'),\n",
              " tensor([[ 407, 8066, 4483,  340,  572]], device='cuda:0'))"
            ]
          },
          "metadata": {},
          "execution_count": 18
        }
      ],
      "source": [
        "device = 'cuda' if torch.cuda.is_available()  else 'cpu'\n",
        "get_batch(train_data, 5, 1, device)\n",
        "# TODO: get and print a single batch from the training set"
      ]
    },
    {
      "cell_type": "markdown",
      "id": "c7aa876f",
      "metadata": {
        "id": "c7aa876f"
      },
      "source": [
        "**Graded Task**: Once again, we will be using the approach shown in the generative\n",
        "RNN lecture, where the model's goal is to generate the next token given the\n",
        "previous context. With that in mind, explain why the target output tokens is\n",
        "very similar to the input tokens, just offset by 1 along the `block_size`\n",
        "dimension."
      ]
    },
    {
      "cell_type": "code",
      "execution_count": null,
      "id": "6751a1ad",
      "metadata": {
        "id": "6751a1ad"
      },
      "outputs": [],
      "source": [
        "# TODO: Your explanation goes here.\n",
        "\n",
        "# Since our task is to predict the next token given an input token, the first input\n",
        "# token from the data is used to generate the next target token which will then be used as the\n",
        "# input to generate the next target token and so on. This is why there is an offset by 1 along\n",
        "# the block_size dimension. The task is to predict the same sequence of tokens"
      ]
    },
    {
      "cell_type": "markdown",
      "id": "a56959bd",
      "metadata": {
        "id": "a56959bd"
      },
      "source": [
        "## Part 2. Model\n",
        "\n",
        "Now that we have our data set in mind, it is time to set up our GPT2 model.\n",
        "We will use the code provided in the [nanoGPT repository](https://github.com/karpathy/nanoGPT),\n",
        "slightly modified here for succinctness.\n",
        "Thus, we will not re-implement the GPT2 model. Instead, let's use the\n",
        "nanoGPT implementation to understand, step-by-step, what happens in a GPT model.\n",
        "\n",
        "\n",
        "We will explore the components of the GPT2 model first in a *top-down* manner,\n",
        "to get an intuition as to how the pieces connect. Then, we will explore the same\n",
        "components in a *bottom-up* manner, so that we can fully understand the role of each\n",
        "component."
      ]
    },
    {
      "cell_type": "code",
      "execution_count": null,
      "id": "059d1376",
      "metadata": {
        "id": "059d1376"
      },
      "outputs": [],
      "source": [
        "from dataclasses import dataclass\n",
        "import torch\n",
        "import torch.nn as nn\n",
        "import torch.nn.functional as F\n",
        "import inspect"
      ]
    },
    {
      "cell_type": "markdown",
      "id": "db98056d",
      "metadata": {
        "id": "db98056d"
      },
      "source": [
        "We begin with the `GPTConfig` class, which contains model architecture\n",
        "settings for our GPT2 model. The settings specify:\n",
        "\n",
        "- `block_size`: the input sequence length. Shorter sequences can be padded (with\n",
        "  a padding token as seen in the previous lab), and\n",
        "  longer sequences must be cut shorter. During training, we will generate batches\n",
        "  with sequences that are exactly the block size\n",
        "- `vocab_size`: the number of unique tokens in our vocabulary. This affects the\n",
        "  size of the initial embedding layer.\n",
        "- `n_layer`: the number of transformer layers.\n",
        "- `n_head`: the number of *attention heads* to use in the causal self-attention layer.\n",
        "- `n_embd`: the embedding size used throughout the model. You can think of each token\n",
        "  position as being represented as a vector of length `n_embd`.\n",
        "- `dropout`: for dropout.\n",
        "- `bias`: A boolean to determine whether to use a bias parameter in certain layers or not."
      ]
    },
    {
      "cell_type": "code",
      "execution_count": null,
      "id": "a6d9ed03",
      "metadata": {
        "id": "a6d9ed03"
      },
      "outputs": [],
      "source": [
        "@dataclass\n",
        "class GPTConfig:\n",
        "    block_size: int = 1024\n",
        "    vocab_size: int = 50304 # GPT-2 vocab_size of 50257, padded up to nearest multiple of 64 for efficiency\n",
        "    n_layer: int = 12\n",
        "    n_head: int = 12\n",
        "    n_embd: int = 768\n",
        "    dropout: float = 0.0\n",
        "    bias: bool = True # True: bias in Linears and LayerNorms, like GPT-2. False: a bit better and faster"
      ]
    },
    {
      "cell_type": "markdown",
      "id": "d3d81292",
      "metadata": {
        "id": "d3d81292"
      },
      "source": [
        "**Task**: Which of these settings do you think would affect the total number of trainable parameters in a GPT model?\n",
        "Which of them do you think have the **largest impact** on the number of trainable parameters?\n",
        "Please write down your guess before continuing, and we will check back here later."
      ]
    },
    {
      "cell_type": "code",
      "execution_count": null,
      "id": "47095cd7",
      "metadata": {
        "id": "47095cd7"
      },
      "outputs": [],
      "source": [
        "# TODO: Write down your thoughts here.\n",
        "# number of layers"
      ]
    },
    {
      "cell_type": "markdown",
      "id": "a2f3d46d",
      "metadata": {
        "id": "a2f3d46d"
      },
      "source": [
        "With the setting in mind, we can set up a GPT model.\n",
        "A GPT model will take a GPTConfig object as a parameter.\n",
        "Pay particular attention to the `__init__()` and\n",
        "`forward()` methods. These are the methods that we will\n",
        "study in more detail.\n",
        "\n",
        "The code uses a more PyTorch features that we have not discussed,\n",
        "but these features are mostly cosmetic and do not provide significantly\n",
        "different functionality: the use of `nn.ModuleDict` allows us to access modules\n",
        "in the `GPT` class in a straightforward way, and\n",
        "`nn.ModuleList` allows us to create a list of modules.\n",
        "We have not yet defined the PyTorch neural network modules `Block` and\n",
        "`LayerNorm`, but we will do so soon.\n",
        "\n",
        "If you see a PyTorch feature used that you don't understand, you can\n",
        "always look it up in the PyTorch documentation. However, you don't try to\n",
        "understand everything at one go. It is normal to read code in multiple \"passes\",\n",
        "and focus on the big picture in the first pass.\n",
        "\n",
        "**Task**: Begin with a first pass read of the `__init__()`\n",
        "and `forward()` methods of the `GPT` module.\n",
        "\n",
        "**Graded Task**: Implement the `generate` method of the class. This method should autoregressively generate the next token ids based on the given tokens. Implementation details and type annotations are provided in the method. Make sure to verify your solution with a sensible test of your design. Think about possible edge cases."
      ]
    },
    {
      "cell_type": "code",
      "execution_count": null,
      "id": "a272ac5d",
      "metadata": {
        "id": "a272ac5d"
      },
      "outputs": [],
      "source": [
        "class GPT(nn.Module):\n",
        "\n",
        "    def __init__(self, config):\n",
        "        super().__init__()\n",
        "        assert config.vocab_size is not None\n",
        "        assert config.block_size is not None\n",
        "        self.config = config\n",
        "\n",
        "        self.transformer = nn.ModuleDict(dict(\n",
        "            wte = nn.Embedding(config.vocab_size, config.n_embd),\n",
        "            wpe = nn.Embedding(config.block_size, config.n_embd),\n",
        "            drop = nn.Dropout(config.dropout),\n",
        "            h = nn.ModuleList([Block(config) for _ in range(config.n_layer)]),\n",
        "            ln_f = LayerNorm(config.n_embd, bias=config.bias),\n",
        "        ))\n",
        "        self.lm_head = nn.Linear(config.n_embd, config.vocab_size, bias=False)\n",
        "        # with weight tying when using torch.compile() some warnings get generated:\n",
        "        # \"UserWarning: functional_call was passed multiple values for tied weights.\n",
        "        # This behavior is deprecated and will be an error in future versions\"\n",
        "        # not 100% sure what this is, so far seems to be harmless. TODO investigate\n",
        "        self.transformer.wte.weight = self.lm_head.weight # https://paperswithcode.com/method/weight-tying\n",
        "\n",
        "        # init all weights\n",
        "        self.apply(self._init_weights)\n",
        "        # apply special scaled init to the residual projections, per GPT-2 paper\n",
        "        for pn, p in self.named_parameters():\n",
        "            if pn.endswith('c_proj.weight'):\n",
        "                torch.nn.init.normal_(p, mean=0.0, std=0.02/math.sqrt(2 * config.n_layer))\n",
        "\n",
        "        # report number of parameters\n",
        "        print(\"number of parameters: %.2fM\" % (self.get_num_params()/1e6,))\n",
        "\n",
        "    def get_num_params(self, non_embedding=True):\n",
        "        \"\"\"\n",
        "        Return the number of parameters in the model.\n",
        "        For non-embedding count (default), the position embeddings get subtracted.\n",
        "        The token embeddings would too, except due to the parameter sharing these\n",
        "        params are actually used as weights in the final layer, so we include them.\n",
        "        \"\"\"\n",
        "        n_params = sum(p.numel() for p in self.parameters())\n",
        "        if non_embedding:\n",
        "            n_params -= self.transformer.wpe.weight.numel()\n",
        "        return n_params\n",
        "\n",
        "    def _init_weights(self, module):\n",
        "        if isinstance(module, nn.Linear):\n",
        "            torch.nn.init.normal_(module.weight, mean=0.0, std=0.02)\n",
        "            if module.bias is not None:\n",
        "                torch.nn.init.zeros_(module.bias)\n",
        "        elif isinstance(module, nn.Embedding):\n",
        "            torch.nn.init.normal_(module.weight, mean=0.0, std=0.02)\n",
        "\n",
        "    def forward(self, idx, targets=None):\n",
        "        device = idx.device\n",
        "        b, t = idx.size()\n",
        "        assert t <= self.config.block_size, f\"Cannot forward sequence of length {t}, block size is only {self.config.block_size}\"\n",
        "        pos = torch.arange(0, t, dtype=torch.long, device=device) # shape (t)\n",
        "\n",
        "        # forward the GPT model itself\n",
        "        tok_emb = self.transformer.wte(idx) # token embeddings of shape (b, t, n_embd)\n",
        "        pos_emb = self.transformer.wpe(pos) # position embeddings of shape (t, n_embd)\n",
        "        x = self.transformer.drop(tok_emb + pos_emb) # up until here we are only preparing the input by tokenizing it\n",
        "        for block in self.transformer.h:   # Here is where we pass the input through many transformer encoder layers\n",
        "            x = block(x)\n",
        "        x = self.transformer.ln_f(x)  # this will be the output from the transformer\n",
        "\n",
        "        if targets is not None:\n",
        "            # if we are given some desired targets also calculate the loss\n",
        "            logits = self.lm_head(x)\n",
        "            loss = F.cross_entropy(logits.view(-1, logits.size(-1)), targets.view(-1), ignore_index=-1)\n",
        "        else:\n",
        "            # inference-time mini-optimization: only forward the lm_head on the very last position\n",
        "            logits = self.lm_head(x[:, [-1], :]) # note: using list [-1] to preserve the time dim\n",
        "            loss = None\n",
        "\n",
        "        return logits, loss\n",
        "\n",
        "    def crop_block_size(self, block_size):\n",
        "        # model surgery to decrease the block size if necessary\n",
        "        # e.g. we may load the GPT2 pretrained model checkpoint (block size 1024)\n",
        "        # but want to use a smaller block size for some smaller, simpler model\n",
        "        assert block_size <= self.config.block_size\n",
        "        self.config.block_size = block_size\n",
        "        self.transformer.wpe.weight = nn.Parameter(self.transformer.wpe.weight[:block_size])\n",
        "        for block in self.transformer.h:\n",
        "            if hasattr(block.attn, 'bias'):\n",
        "                block.attn.bias = block.attn.bias[:,:,:block_size,:block_size]\n",
        "\n",
        "    @classmethod\n",
        "    def from_pretrained(cls, model_type, override_args=None):\n",
        "        assert model_type in {'gpt2', 'gpt2-medium', 'gpt2-large', 'gpt2-xl'}\n",
        "        override_args = override_args or {} # default to empty dict\n",
        "        # only dropout can be overridden see more notes below\n",
        "        assert all(k == 'dropout' for k in override_args)\n",
        "        from transformers import GPT2LMHeadModel\n",
        "        print(\"loading weights from pretrained gpt: %s\" % model_type)\n",
        "\n",
        "        # n_layer, n_head and n_embd are determined from model_type\n",
        "        config_args = {\n",
        "            'gpt2':         dict(n_layer=12, n_head=12, n_embd=768),  # 124M params\n",
        "            'gpt2-medium':  dict(n_layer=24, n_head=16, n_embd=1024), # 350M params\n",
        "            'gpt2-large':   dict(n_layer=36, n_head=20, n_embd=1280), # 774M params\n",
        "            'gpt2-xl':      dict(n_layer=48, n_head=25, n_embd=1600), # 1558M params\n",
        "        }[model_type]\n",
        "        print(\"forcing vocab_size=50257, block_size=1024, bias=True\")\n",
        "        config_args['vocab_size'] = 50257 # always 50257 for GPT model checkpoints\n",
        "        config_args['block_size'] = 1024 # always 1024 for GPT model checkpoints\n",
        "        config_args['bias'] = True # always True for GPT model checkpoints\n",
        "        # we can override the dropout rate, if desired\n",
        "        if 'dropout' in override_args:\n",
        "            print(f\"overriding dropout rate to {override_args['dropout']}\")\n",
        "            config_args['dropout'] = override_args['dropout']\n",
        "        # create a from-scratch initialized minGPT model\n",
        "        config = GPTConfig(**config_args)\n",
        "        model = GPT(config)\n",
        "        sd = model.state_dict()\n",
        "        sd_keys = sd.keys()\n",
        "        sd_keys = [k for k in sd_keys if not k.endswith('.attn.bias')] # discard this mask / buffer, not a param\n",
        "\n",
        "        # init a huggingface/transformers model\n",
        "        model_hf = GPT2LMHeadModel.from_pretrained(model_type)\n",
        "        sd_hf = model_hf.state_dict()\n",
        "\n",
        "        # copy while ensuring all of the parameters are aligned and match in names and shapes\n",
        "        sd_keys_hf = sd_hf.keys()\n",
        "        sd_keys_hf = [k for k in sd_keys_hf if not k.endswith('.attn.masked_bias')] # ignore these, just a buffer\n",
        "        sd_keys_hf = [k for k in sd_keys_hf if not k.endswith('.attn.bias')] # same, just the mask (buffer)\n",
        "        transposed = ['attn.c_attn.weight', 'attn.c_proj.weight', 'mlp.c_fc.weight', 'mlp.c_proj.weight']\n",
        "        # basically the openai checkpoints use a \"Conv1D\" module, but we only want to use a vanilla Linear\n",
        "        # this means that we have to transpose these weights when we import them\n",
        "        assert len(sd_keys_hf) == len(sd_keys), f\"mismatched keys: {len(sd_keys_hf)} != {len(sd_keys)}\"\n",
        "        for k in sd_keys_hf:\n",
        "            if any(k.endswith(w) for w in transposed):\n",
        "                # special treatment for the Conv1D weights we need to transpose\n",
        "                assert sd_hf[k].shape[::-1] == sd[k].shape\n",
        "                with torch.no_grad():\n",
        "                    sd[k].copy_(sd_hf[k].t())\n",
        "            else:\n",
        "                # vanilla copy over the other parameters\n",
        "                assert sd_hf[k].shape == sd[k].shape\n",
        "                with torch.no_grad():\n",
        "                    sd[k].copy_(sd_hf[k])\n",
        "\n",
        "        return model\n",
        "\n",
        "    def configure_optimizers(self, weight_decay, learning_rate, betas, device_type):\n",
        "        # start with all of the candidate parameters\n",
        "        param_dict = {pn: p for pn, p in self.named_parameters()}\n",
        "        # filter out those that do not require grad\n",
        "        param_dict = {pn: p for pn, p in param_dict.items() if p.requires_grad}\n",
        "        # create optim groups. Any parameters that is 2D will be weight decayed, otherwise no.\n",
        "        # i.e. all weight tensors in matmuls + embeddings decay, all biases and layernorms don't.\n",
        "        decay_params = [p for n, p in param_dict.items() if p.dim() >= 2]\n",
        "        nodecay_params = [p for n, p in param_dict.items() if p.dim() < 2]\n",
        "        optim_groups = [\n",
        "            {'params': decay_params, 'weight_decay': weight_decay},\n",
        "            {'params': nodecay_params, 'weight_decay': 0.0}\n",
        "        ]\n",
        "        num_decay_params = sum(p.numel() for p in decay_params)\n",
        "        num_nodecay_params = sum(p.numel() for p in nodecay_params)\n",
        "        print(f\"num decayed parameter tensors: {len(decay_params)}, with {num_decay_params:,} parameters\")\n",
        "        print(f\"num non-decayed parameter tensors: {len(nodecay_params)}, with {num_nodecay_params:,} parameters\")\n",
        "        # Create AdamW optimizer and use the fused version if it is available\n",
        "        fused_available = 'fused' in inspect.signature(torch.optim.AdamW).parameters\n",
        "        use_fused = fused_available and device_type == 'cuda'\n",
        "        extra_args = dict(fused=True) if use_fused else dict()\n",
        "        optimizer = torch.optim.AdamW(optim_groups, lr=learning_rate, betas=betas, **extra_args)\n",
        "        print(f\"using fused AdamW: {use_fused}\")\n",
        "\n",
        "        return optimizer\n",
        "\n",
        "    def estimate_mfu(self, fwdbwd_per_iter, dt):\n",
        "        \"\"\" estimate model flops utilization (MFU) in units of A100 bfloat16 peak FLOPS \"\"\"\n",
        "        # first estimate the number of flops we do per iteration.\n",
        "        # see PaLM paper Appendix B as ref: https://arxiv.org/abs/2204.02311\n",
        "        N = self.get_num_params()\n",
        "        cfg = self.config\n",
        "        L, H, Q, T = cfg.n_layer, cfg.n_head, cfg.n_embd//cfg.n_head, cfg.block_size\n",
        "        flops_per_token = 6*N + 12*L*H*Q*T\n",
        "        flops_per_fwdbwd = flops_per_token * T\n",
        "        flops_per_iter = flops_per_fwdbwd * fwdbwd_per_iter\n",
        "        # express our flops throughput as ratio of A100 bfloat16 peak flops\n",
        "        flops_achieved = flops_per_iter * (1.0/dt) # per second\n",
        "        flops_promised = 312e12 # A100 GPU bfloat16 peak flops is 312 TFLOPS\n",
        "        mfu = flops_achieved / flops_promised\n",
        "        return mfu\n",
        "\n",
        "    @torch.no_grad()\n",
        "    def generate(self, idx: torch.Tensor, new_tokens: int, temperature: float=1.0, top_k: int|None=None) -> torch.Tensor:\n",
        "        \"\"\"\n",
        "        Take a conditioning sequence of indices idx (LongTensor of shape (b,t)) and complete\n",
        "        the sequence max_new_tokens times, feeding the predictions back into the model each time.\n",
        "        Make sure to account for the fact that input sequences or intermediate generation might\n",
        "        be longer than the max block size, you have to process those (yor code cannot generate\n",
        "        an error in this case).\n",
        "\n",
        "        Args:\n",
        "            idx (torch.Tensor): a tensor of tokenized inputs of shape (b,t) where b is a batch\n",
        "            and t is the time axis.\n",
        "            new_tokens (int): the number of tokens to return\n",
        "            temperature (float): the sampling temperature for the softmax operation\n",
        "\n",
        "        Return:\n",
        "            torch.Tensor: a tensor of autoregressively sampled next ids\n",
        "        \"\"\"\n",
        "        generated = idx\n",
        "        for i in range(new_tokens):\n",
        "          if generated.size(1) > self.config.block_size:\n",
        "              generated = generated[:, -self.config.block_size:]\n",
        "\n",
        "          logits, _ = self.forward(generated)\n",
        "\n",
        "          probs = torch.nn.functional.softmax(logits[:, -1, :] / temperature, dim=-1)\n",
        "\n",
        "          next_token = torch.multinomial(probs, num_samples=1)\n",
        "          generated = torch.cat((generated, next_token), dim=1)\n",
        "\n",
        "\n",
        "        return generated"
      ]
    },
    {
      "cell_type": "code",
      "execution_count": null,
      "id": "d785319d",
      "metadata": {
        "id": "d785319d"
      },
      "outputs": [],
      "source": [
        "# TODO: test code here (this will only run after the Blocks are defined further below, sorry about that)"
      ]
    },
    {
      "cell_type": "markdown",
      "id": "afb5b193",
      "metadata": {
        "id": "afb5b193"
      },
      "source": [
        "Doing a first-pass read on both the `__init__()` and `forward()` methods,\n",
        "you should see that the GPT model has the following components (ignoring\n",
        "dropout):\n",
        "\n",
        "- `transformer.wte`, which is an embedding layer that maps tokens\n",
        "  to a vector embedding.\n",
        "- `transformer.wtp`, is also an embedding layer, but this one maps\n",
        "  **token position indices** to a vector embedding. This index is required to\n",
        "  inject position information into the embedding---otherwise transformer computation\n",
        "  would be invariant to the reordering of input tokens (i.e., the computation would not\n",
        "  change if the order of the input tokens change).\n",
        "  Since the length of a sequence is at most `block_size`, so there\n",
        "  are at most `block_size` indices to embed.\n",
        "- A sequence of `Block`s --- to be defined. The output from the previous block\n",
        "  is taken as the input of the next block.\n",
        "- A final `LayerNorm` layer after the last block. This layer is also yet to be\n",
        "  defined, and the name suggests that this is a normalization layer (similar to\n",
        "  batch normalization) that does *not* change the shape of the features\n",
        "  (i.e., the output shape is the same as the input shape).\n",
        "- `lm_head`, which is a linear layer that maps embeddings back to a distribution\n",
        "  over the possible otuput tokens.\n",
        "\n",
        "**Task**: Compute the number of parameters in the `wte` embedding layer of the GPT2 model. (For these and other questions that specifically mention GPT2 model,\n",
        "please use the config settings above and provide an actual numbers.)"
      ]
    },
    {
      "cell_type": "code",
      "execution_count": null,
      "id": "66cfdccc",
      "metadata": {
        "id": "66cfdccc"
      },
      "outputs": [],
      "source": [
        "# TODO: Perform this computation by hand.\n",
        "# 38,633,472"
      ]
    },
    {
      "cell_type": "markdown",
      "id": "4e93a6cd",
      "metadata": {
        "id": "4e93a6cd"
      },
      "source": [
        "**Task**: Compute the number of parameters in the `wtp` embedding layer of the GPT2 model."
      ]
    },
    {
      "cell_type": "code",
      "execution_count": null,
      "id": "39c6daf2",
      "metadata": {
        "id": "39c6daf2"
      },
      "outputs": [],
      "source": [
        "# TODO: Perform this computation by hand.\n",
        "# 786,432"
      ]
    },
    {
      "cell_type": "markdown",
      "id": "d6b43ff2",
      "metadata": {
        "id": "d6b43ff2"
      },
      "source": [
        "**Graded Task**: Explain why the linear layer `lm_head` has the same number\n",
        "of parameters as the embedding layer `wte`. Provide an intuitive explanation\n",
        "for why **weight tying**---i.e., using the same set of weights for both layers,\n",
        "just transposed---would be reasonable. The weight tying is done to reduce the\n",
        "total number of parameters in the GPT2 model."
      ]
    },
    {
      "cell_type": "code",
      "execution_count": null,
      "id": "1d8f72a0",
      "metadata": {
        "id": "1d8f72a0"
      },
      "outputs": [],
      "source": [
        "# TODO: Include your explanations here\n",
        "# the embedding layer is used to map tokens to their vector embeddings.\n",
        "# lm_head maps the embeddings back to a distribution over the possible output tokens\n",
        "\n",
        "# From the above defitions, we can intuitively see that the above transformations\n",
        "# are just taking vectors from one subspace to another and vice versa and hence\n",
        "# we can use the same wieghts but just transpose them to achive this"
      ]
    },
    {
      "cell_type": "markdown",
      "id": "559c8e0b",
      "metadata": {
        "id": "559c8e0b"
      },
      "source": [
        "**Task**: Explain why it is that in the `forward()` method, the tensor `tok_emb` has\n",
        "the shape `(b, t, n_embd)`, where `b` is the batch size, `t` is the sequence\n",
        "length (max `block_size`), and `n_embd` is the embedding size."
      ]
    },
    {
      "cell_type": "code",
      "execution_count": null,
      "id": "eeb74156",
      "metadata": {
        "id": "eeb74156"
      },
      "outputs": [],
      "source": [
        "# TODO: Include your explanations here\n",
        "# in each batch, for each token, there is a vector representation of dimention n_embd"
      ]
    },
    {
      "cell_type": "markdown",
      "id": "a6a4dc23",
      "metadata": {
        "id": "a6a4dc23"
      },
      "source": [
        "**Task**: Notice that in the `forward()` method, the tensor `pos_emb` has\n",
        "the shape `(t, n_embd)`. In other words, we embed the position only once for\n",
        "each batch, and then rely on PyTorch tensor broadcasting to perform the\n",
        "addition `tok_emb + pos_emb`. Why is this ok?"
      ]
    },
    {
      "cell_type": "code",
      "execution_count": null,
      "id": "acb5fbb8",
      "metadata": {
        "id": "acb5fbb8"
      },
      "outputs": [],
      "source": [
        "# TODO: Include your explanations here\n",
        "#"
      ]
    },
    {
      "cell_type": "markdown",
      "id": "8e2b5f8b",
      "metadata": {
        "id": "8e2b5f8b"
      },
      "source": [
        "**Task**: What is the shape of `tok_emb + pos_emb`  in the `forward()` method\n",
        "in a GPT2 model?\n",
        "This question is not trivial because the two addend tensors are not of the\n",
        "same shape.\n",
        "Thus, the addition uses broadcasting. PyTorch broadcasting works similarly to\n",
        "that of Numpy's.  You can look up \"PyTorch broadcasting\" to find resources\n",
        "related to how broadcasting works."
      ]
    },
    {
      "cell_type": "code",
      "execution_count": null,
      "id": "dffa9df1",
      "metadata": {
        "id": "dffa9df1"
      },
      "outputs": [],
      "source": [
        "# TODO: Perform this computation by hand.\n",
        "# (b, t, n_embd)"
      ]
    },
    {
      "cell_type": "markdown",
      "id": "db099778",
      "metadata": {
        "id": "db099778"
      },
      "source": [
        "**Graded Task**: What is the shape of `x`  in the `forward()` method? This is an\n",
        "important shape to remember, since it is the shape of the feature map consistent\n",
        "in most of the transformer network."
      ]
    },
    {
      "cell_type": "code",
      "execution_count": null,
      "id": "b173b904",
      "metadata": {
        "id": "b173b904"
      },
      "outputs": [],
      "source": [
        "# TODO: Perform this computation by hand.\n",
        "# (b, t, n_embd)"
      ]
    },
    {
      "cell_type": "markdown",
      "id": "07b4510f",
      "metadata": {
        "id": "07b4510f"
      },
      "source": [
        "**Task**: What is the shape of `logits`  in the `forward()` method?"
      ]
    },
    {
      "cell_type": "code",
      "execution_count": null,
      "id": "c8c96349",
      "metadata": {
        "id": "c8c96349"
      },
      "outputs": [],
      "source": [
        "# TODO: Perform this computation by hand.\n",
        "# (batch_size, sequence_length, vocab_size)"
      ]
    },
    {
      "cell_type": "markdown",
      "id": "15cabec9",
      "metadata": {
        "id": "15cabec9"
      },
      "source": [
        "These questions above should give you a clear idea of the main components\n",
        "of the transformer model, the expected input and output tensor shapes, and\n",
        "the shapes of intermediate tensors. With this in mind, let's explore\n",
        "the two modules referenced by `GPT`.\n",
        "\n",
        "We'll start with the simple one. The LayerNorm layer is intended to be\n",
        "similar to [PyTorch's LayerNorm layer](https://pytorch.org/docs/stable/generated/torch.nn.LayerNorm.html#torch.nn.LayerNorm)."
      ]
    },
    {
      "cell_type": "code",
      "execution_count": null,
      "id": "b2d10dd9",
      "metadata": {
        "id": "b2d10dd9"
      },
      "outputs": [],
      "source": [
        "class LayerNorm(nn.Module):\n",
        "    \"\"\" LayerNorm but with an optional bias. PyTorch doesn't support simply bias=False \"\"\"\n",
        "\n",
        "    def __init__(self, ndim, bias):\n",
        "        super().__init__()\n",
        "        self.weight = nn.Parameter(torch.ones(ndim))\n",
        "        self.bias = nn.Parameter(torch.zeros(ndim)) if bias else None\n",
        "\n",
        "    def forward(self, input):\n",
        "        return F.layer_norm(input, self.weight.shape, self.weight, self.bias, 1e-5)"
      ]
    },
    {
      "cell_type": "markdown",
      "id": "f96a22c8",
      "metadata": {
        "id": "f96a22c8"
      },
      "source": [
        "**Task**: How many parameters are in a LayerNorm layer?"
      ]
    },
    {
      "cell_type": "code",
      "execution_count": null,
      "id": "2a85264e",
      "metadata": {
        "id": "2a85264e"
      },
      "outputs": [],
      "source": [
        "# TODO: Perform this computation by hand.\n",
        "# either ndim or 2*ndim"
      ]
    },
    {
      "cell_type": "markdown",
      "id": "2821e28f",
      "metadata": {
        "id": "2821e28f"
      },
      "source": [
        "**Task**: Read the description of the LayerNorm layer in PyTorch at\n",
        "[https://pytorch.org/docs/stable/generated/torch.nn.LayerNorm.html#torch.nn.LayerNorm](https://pytorch.org/docs/stable/generated/torch.nn.LayerNorm.html#torch.nn.LayerNorm). Then, explain how layer normalization differs from batch normalization."
      ]
    },
    {
      "cell_type": "code",
      "execution_count": null,
      "id": "78581d7d",
      "metadata": {
        "id": "78581d7d"
      },
      "outputs": [],
      "source": [
        "# TODO: Perform this computation by hand.\n",
        "# layernorm normalizes over a layer rather than over the batch"
      ]
    },
    {
      "cell_type": "markdown",
      "id": "1f4de174",
      "metadata": {
        "id": "1f4de174"
      },
      "source": [
        "Let's move on to the `Block` module. Recall that here are several `Block`\n",
        "modules in a GPT model, and the output of one module is the input of the next."
      ]
    },
    {
      "cell_type": "code",
      "execution_count": null,
      "id": "29660279",
      "metadata": {
        "id": "29660279"
      },
      "outputs": [],
      "source": [
        "class Block(nn.Module):\n",
        "\n",
        "    def __init__(self, config):\n",
        "        super().__init__()\n",
        "        self.ln_1 = LayerNorm(config.n_embd, bias=config.bias)\n",
        "        self.attn = CausalSelfAttention(config)\n",
        "        self.ln_2 = LayerNorm(config.n_embd, bias=config.bias)\n",
        "        self.mlp = MLP(config)\n",
        "\n",
        "    def forward(self, x):\n",
        "        x = x + self.attn(self.ln_1(x))\n",
        "        x = x + self.mlp(self.ln_2(x))\n",
        "        return x"
      ]
    },
    {
      "cell_type": "markdown",
      "id": "03aa194a",
      "metadata": {
        "id": "03aa194a"
      },
      "source": [
        "This module is actually quite succinct, but it also refers to modules that are\n",
        "yet to be defined. It consists of:\n",
        "\n",
        "- A layer normalization layer.\n",
        "- A **causal self attention** layer (to be defined). This is the heart of the GPT model.\n",
        "- Another layer normalization layer.\n",
        "- An MLP layer (to be defined).\n",
        "\n",
        "**Task**: Judging by the `Block.forward()` method above, why must\n",
        "the `CausalSelfAttention` and the `MLP` layers\n",
        "**preserve the shape of the features**?"
      ]
    },
    {
      "cell_type": "code",
      "execution_count": null,
      "id": "2408be59",
      "metadata": {
        "id": "2408be59"
      },
      "outputs": [],
      "source": [
        "# TODO: Include your explanation here.\n",
        "# Because you are adding it to the input features x"
      ]
    },
    {
      "cell_type": "markdown",
      "id": "714df529",
      "metadata": {
        "id": "714df529"
      },
      "source": [
        "**Task**: How might the *skip-connections* in the `Block.forward()` method\n",
        "help with gradient flow? An intuitive explanation is sufficient here."
      ]
    },
    {
      "cell_type": "code",
      "execution_count": null,
      "id": "c709c541",
      "metadata": {
        "id": "c709c541"
      },
      "outputs": [],
      "source": [
        "# TODO: Include your explanation here.\n",
        "# it helps preserve the information from input sequences, so allows gradient information\n",
        "# from previous layers to follow through and not be lost"
      ]
    },
    {
      "cell_type": "markdown",
      "id": "d00cd112",
      "metadata": {
        "id": "d00cd112"
      },
      "source": [
        "With the GPT2 `Block` in mind, we will define the `MLP` module next."
      ]
    },
    {
      "cell_type": "code",
      "execution_count": null,
      "id": "811b239a",
      "metadata": {
        "id": "811b239a"
      },
      "outputs": [],
      "source": [
        "class MLP(nn.Module):\n",
        "\n",
        "    def __init__(self, config):\n",
        "        super().__init__()\n",
        "        self.c_fc    = nn.Linear(config.n_embd, 4 * config.n_embd, bias=config.bias)\n",
        "        self.gelu    = nn.GELU()\n",
        "        self.c_proj  = nn.Linear(4 * config.n_embd, config.n_embd, bias=config.bias)\n",
        "        self.dropout = nn.Dropout(config.dropout)\n",
        "\n",
        "    def forward(self, x):\n",
        "        x = self.c_fc(x)\n",
        "        x = self.gelu(x)\n",
        "        x = self.c_proj(x)\n",
        "        x = self.dropout(x)\n",
        "        return x"
      ]
    },
    {
      "cell_type": "markdown",
      "id": "c6d1d83a",
      "metadata": {
        "id": "c6d1d83a"
      },
      "source": [
        "Immediately, we see that this MLP consists of two linear layers.\n",
        "The activation function used between these two layers is the\n",
        "[Gaussian Error Linear Units function](https://pytorch.org/docs/stable/generated/torch.nn.GELU.html). You can read more about it in\n",
        "[this paper](https://arxiv.org/pdf/1606.08415.pdf).\n",
        "\n",
        "**Task**: Compute the number of parameters in a `MLP` layer in a GPT2 model."
      ]
    },
    {
      "cell_type": "code",
      "execution_count": null,
      "id": "42ff1aa1",
      "metadata": {
        "id": "42ff1aa1"
      },
      "outputs": [],
      "source": [
        "# TODO: Perform this computation by hand\n",
        "# 4,718,592"
      ]
    },
    {
      "cell_type": "markdown",
      "id": "68f1d219",
      "metadata": {
        "id": "68f1d219"
      },
      "source": [
        "**Task**: Recall that the input of the MLP layer is a tensor with the usual\n",
        "dimension computed earlier.\n",
        "What is the shape of `self.c_fc(x)` in the `MLP.forward()` method?\n",
        "What about the shape of the return value in this method?"
      ]
    },
    {
      "cell_type": "code",
      "execution_count": null,
      "id": "3e7a74d4",
      "metadata": {
        "id": "3e7a74d4"
      },
      "outputs": [],
      "source": [
        "# TODO: Perform this computation by hand"
      ]
    },
    {
      "cell_type": "markdown",
      "id": "8e30b2e8",
      "metadata": {
        "id": "8e30b2e8"
      },
      "source": [
        "**Task**: Explain why this MLP layer is also called the \"pointwise feed forward\"\n",
        "layer.  (Hint: a \"point\" here refers to a single token or position in the input\n",
        "sequence)"
      ]
    },
    {
      "cell_type": "code",
      "execution_count": null,
      "id": "cd9df9dd",
      "metadata": {
        "id": "cd9df9dd"
      },
      "outputs": [],
      "source": [
        "# TODO: Include your explanation here."
      ]
    },
    {
      "cell_type": "markdown",
      "id": "93d9f81c",
      "metadata": {
        "id": "93d9f81c"
      },
      "source": [
        "Finally, let's study the definition of the `CausalSelfAttention` layer.\n",
        "This is the heart of the GPT model and is also the most complex module.\n",
        "\n",
        "**Task**: Begin with a first pass read of the `__init__()`\n",
        "and `forward()` methods of `CausalSelfAttention` module.\n",
        "We will then trace through the case where `self.flash` is `False`, since\n",
        "the code provides more detailed explanation for the computation steps.\n",
        "\n",
        "**Graded Taks**: Fill in the missing `else` block in the `forward` method. This computes attention by hand. Verify your solution!"
      ]
    },
    {
      "cell_type": "code",
      "execution_count": null,
      "id": "b4e1914c",
      "metadata": {
        "id": "b4e1914c"
      },
      "outputs": [],
      "source": [
        "class CausalSelfAttention(nn.Module):\n",
        "\n",
        "    def __init__(self, config):\n",
        "        super().__init__()\n",
        "        assert config.n_embd % config.n_head == 0\n",
        "        # key, query, value projections for all heads, but in a batch\n",
        "        self.c_attn = nn.Linear(config.n_embd, 3 * config.n_embd, bias=config.bias)\n",
        "        # output projection\n",
        "        self.c_proj = nn.Linear(config.n_embd, config.n_embd, bias=config.bias)\n",
        "        # regularization\n",
        "        self.attn_dropout = nn.Dropout(config.dropout)\n",
        "        self.resid_dropout = nn.Dropout(config.dropout)\n",
        "        self.n_head = config.n_head\n",
        "        self.n_embd = config.n_embd\n",
        "        self.dropout = config.dropout\n",
        "        # flash attention make GPU go brrrrr but support is only in PyTorch >= 2.0\n",
        "        self.flash = hasattr(torch.nn.functional, 'scaled_dot_product_attention')\n",
        "        if not self.flash:\n",
        "            print(\"WARNING: using slow attention. Flash Attention requires PyTorch >= 2.0\")\n",
        "            # causal mask to ensure that attention is only applied to the left in the input sequence\n",
        "            self.register_buffer(\"bias\", torch.tril(torch.ones(config.block_size, config.block_size))\n",
        "                                        .view(1, 1, config.block_size, config.block_size))\n",
        "\n",
        "    def forward(self, x):\n",
        "        B, T, C = x.size() # batch size, sequence length, embedding dimensionality (n_embd)\n",
        "\n",
        "        # calculate query, key, values for all heads in batch and move head forward to be the batch dim\n",
        "        q, k, v  = self.c_attn(x).split(self.n_embd, dim=2)\n",
        "        k = k.view(B, T, self.n_head, C // self.n_head).transpose(1, 2) # (B, nh, T, hs)\n",
        "        q = q.view(B, T, self.n_head, C // self.n_head).transpose(1, 2) # (B, nh, T, hs)\n",
        "        v = v.view(B, T, self.n_head, C // self.n_head).transpose(1, 2) # (B, nh, T, hs)\n",
        "\n",
        "        # causal self-attention; Self-attend: (B, nh, T, hs) x (B, nh, hs, T) -> (B, nh, T, T)\n",
        "        if self.flash:\n",
        "            # efficient attention using Flash Attention CUDA kernels\n",
        "            y = torch.nn.functional.scaled_dot_product_attention(q, k, v, attn_mask=None, dropout_p=self.dropout if self.training else 0, is_causal=True)\n",
        "        else:\n",
        "            # manual implementation of attention\n",
        "            scores = torch.matmul(q, k.transpose(-2, -1))/math.sqrt(C)\n",
        "            attention_weights = torch.softmax(scores, dim=-1)\n",
        "            attention_weights = self.attn_dropout(attention_weights)\n",
        "            y = torch.matmul(attention_weights, v)\n",
        "            # pass # TODO\n",
        "        y = y.transpose(1, 2).contiguous().view(B, T, C) # re-assemble all head outputs side by side\n",
        "\n",
        "        # output projection\n",
        "        y = self.resid_dropout(self.c_proj(y))\n",
        "        return y"
      ]
    },
    {
      "cell_type": "markdown",
      "id": "b56ebd78",
      "metadata": {
        "id": "b56ebd78"
      },
      "source": [
        "**Task**: Compute the number of parameters in the `c_attn` layer in a GPT2 model."
      ]
    },
    {
      "cell_type": "code",
      "execution_count": null,
      "id": "75eab3ef",
      "metadata": {
        "id": "75eab3ef"
      },
      "outputs": [],
      "source": [
        "# TODO: Perform this computation by hand"
      ]
    },
    {
      "cell_type": "markdown",
      "id": "bfd218d4",
      "metadata": {
        "id": "bfd218d4"
      },
      "source": [
        "**Task**: Like the comment in the `__init__()` method suggests,\n",
        "we can think of the `c_attn` layer as a combination of three\n",
        "`nn.Linear(config.n_embd, config.n_embd, bias=config.bias)` modules.\n",
        "These three networks projects the input embedding into three parts:\n",
        "`q` (for *query*), `k` (for *key*), and `v` (for *value).\n",
        "\n",
        "What is the shape of `self.c_attn(x)` in the `forward()` method?\n",
        "Use this answer to show that\n",
        "`self.c_attn(x).split(self.n_embd, dim=2)` gives us the\n",
        "same `q, k, v` values had we used three separate networks."
      ]
    },
    {
      "cell_type": "code",
      "execution_count": null,
      "id": "d47f77e0",
      "metadata": {
        "id": "d47f77e0"
      },
      "outputs": [],
      "source": [
        "# TODO: Perform the computation by hand, then include your explaination."
      ]
    },
    {
      "cell_type": "markdown",
      "id": "1ab48946",
      "metadata": {
        "id": "1ab48946"
      },
      "source": [
        "**Task**: Explain why `config.n_head` must be a factor of `config.n_embd`."
      ]
    },
    {
      "cell_type": "code",
      "execution_count": null,
      "id": "8cec6cae",
      "metadata": {
        "id": "8cec6cae"
      },
      "outputs": [],
      "source": [
        "# TODO: Your explanation goes here."
      ]
    },
    {
      "cell_type": "markdown",
      "id": "b330aacf",
      "metadata": {
        "id": "b330aacf"
      },
      "source": [
        "We will explore the manual implementation of attention in the next few\n",
        "questions. For this part, it helps to first consider the\n",
        "case where the batch size `B=1`, and `n_head=1`. For a larger batch size\n",
        "and number of heads, the attention computation is repeated for every\n",
        "sequence in the batch and every attention head. Thus, the shapes of\n",
        "the three important tensors are:\n",
        "\n",
        "- `q`: (1, 1, T, n_embd)\n",
        "- `k`: (1, 1, T, n_embd)\n",
        "- `v`: (1, 1, T, n_embd)\n",
        "\n",
        "Like discussed in the lectures, you can think of the attention mechanism\n",
        "as a \"soft\" dictionary lookup. Instead of obtaining a single key/values for\n",
        "a given query,\n",
        "attention gives us a *probability distribution over the possible keys/values*.\n",
        "We can then use this probability distribution to obtain a weighted sum\n",
        "(akin to an expected value) of the lookup value.\n",
        "Moreover, instead of having strings, numbers, or other objects as keys/values,\n",
        "a key is a vector (of shape `n_embd`), and a value is also a vector\n",
        "(of shape `n_embd`). This is consistent with what we have seen in\n",
        "neural networks---everything is represented using a vector!\n",
        "The tensors `k` and `v` contains these keys and values, and there is one\n",
        "vector at every token position. The tensor `q` contains the **queries**---\n",
        "analogues to the item (a possible key) that we are searching for in a regular\n",
        "dictionary lookup. There is also one query vector for each token position:\n",
        "for each token position, we want to look up a corresponding (weighted sum of) values\n",
        "that contains information pertinent to understanding the meaning of the token\n",
        "in this position.\n",
        "\n",
        "With that in mind, let's go through the mathematical computations.\n",
        "\n",
        "**Graded Task**: What is the shape of `(q @ k.transpose(-2, -1))`?\n",
        "For this and the following questions, assume that `q`, `k`, `v` have the\n",
        "shape above, where we have assumed that batch size and num heads are both 1."
      ]
    },
    {
      "cell_type": "code",
      "execution_count": null,
      "id": "08ebe71a",
      "metadata": {
        "id": "08ebe71a"
      },
      "outputs": [],
      "source": [
        "# TODO: Perform this computation by hand\n",
        "# [1, 1, T, T]"
      ]
    },
    {
      "cell_type": "markdown",
      "id": "bcac08d9",
      "metadata": {
        "id": "bcac08d9"
      },
      "source": [
        "**Task**: What is the value of math.sqrt(k.size(-1))?"
      ]
    },
    {
      "cell_type": "code",
      "execution_count": null,
      "id": "539d89a5",
      "metadata": {
        "id": "539d89a5"
      },
      "outputs": [],
      "source": [
        "# TODO: Perform this computation by hand"
      ]
    },
    {
      "cell_type": "markdown",
      "id": "f25e4cc7",
      "metadata": {
        "id": "f25e4cc7"
      },
      "source": [
        "**Task**: Argue that the line `att = (q @ k.transpose(-2, -1)) * (1.0 / math.sqrt(k.size(-1)))`  is computing a \"distance\" or \"similarity\" metric between the query at each token position and the key at each token position."
      ]
    },
    {
      "cell_type": "code",
      "execution_count": null,
      "id": "fb651227",
      "metadata": {
        "id": "fb651227"
      },
      "outputs": [],
      "source": [
        "# TODO: Your explanation goes here"
      ]
    },
    {
      "cell_type": "markdown",
      "id": "03e5f00d",
      "metadata": {
        "id": "03e5f00d"
      },
      "source": [
        "The following line of code references a `self.bias` parameter, which is\n",
        "defined in the last line of the `__init__()` method. Since `block_size` is\n",
        "quite large, we can understand what `self.bias` looks like by running a\n",
        "similar piece of code below with a smaller `block_size` value."
      ]
    },
    {
      "cell_type": "code",
      "execution_count": null,
      "id": "d8846b4f",
      "metadata": {
        "id": "d8846b4f",
        "colab": {
          "base_uri": "https://localhost:8080/"
        },
        "outputId": "42ee825f-20e7-405d-e686-beddfd08fc6c"
      },
      "outputs": [
        {
          "output_type": "execute_result",
          "data": {
            "text/plain": [
              "tensor([[[[1., 0., 0., 0., 0.],\n",
              "          [1., 1., 0., 0., 0.],\n",
              "          [1., 1., 1., 0., 0.],\n",
              "          [1., 1., 1., 1., 0.],\n",
              "          [1., 1., 1., 1., 1.]]]])"
            ]
          },
          "metadata": {},
          "execution_count": 50
        }
      ],
      "source": [
        "bias = torch.tril(torch.ones(5, 5)).view(1, 1, 5, 5)\n",
        "bias"
      ]
    },
    {
      "cell_type": "markdown",
      "id": "67f7b199",
      "metadata": {
        "id": "67f7b199"
      },
      "source": [
        "**Task**: Explain what the above code returns. Explain how PyTorch\n",
        "broadcasting may be useful for computations involving this tensor---i.e.,\n",
        "why is it okay that the first two dimensions of this tensor are 1,\n",
        "thus assuming that batch size = 1 and num heads = 1?"
      ]
    },
    {
      "cell_type": "code",
      "execution_count": null,
      "id": "1f37e90c",
      "metadata": {
        "id": "1f37e90c"
      },
      "outputs": [],
      "source": [
        "# TODO: Your explanation goes here"
      ]
    },
    {
      "cell_type": "markdown",
      "id": "febc960d",
      "metadata": {
        "id": "febc960d"
      },
      "source": [
        "**Task**: We will use a similar technique of running a modified version\n",
        "of the next two lines of code in the `forward()` method to better understand\n",
        "what it does.  Run the below code, and explain what the `masked_fill`\n",
        "function does."
      ]
    },
    {
      "cell_type": "code",
      "execution_count": null,
      "id": "ccb50280",
      "metadata": {
        "id": "ccb50280",
        "colab": {
          "base_uri": "https://localhost:8080/"
        },
        "outputId": "a868f537-1a33-48b9-af54-f53a18ddd5aa"
      },
      "outputs": [
        {
          "output_type": "execute_result",
          "data": {
            "text/plain": [
              "tensor([[[[0.4552, 0.8457, 0.2160, 0.1565, 0.2797],\n",
              "          [0.1210, 0.4888, 0.0068, 0.8464, 0.0757],\n",
              "          [0.3393, 0.5248, 0.3323, 0.4358, 0.6316],\n",
              "          [0.3450, 0.0795, 0.2660, 0.0186, 0.6604],\n",
              "          [0.0831, 0.3135, 0.1947, 0.0895, 0.9230]]]])"
            ]
          },
          "metadata": {},
          "execution_count": 52
        }
      ],
      "source": [
        "attn = torch.rand(1, 1, 5, 5)\n",
        "attn"
      ]
    },
    {
      "cell_type": "code",
      "execution_count": null,
      "id": "d9f61812",
      "metadata": {
        "id": "d9f61812",
        "colab": {
          "base_uri": "https://localhost:8080/"
        },
        "outputId": "89c2c5b0-6149-441b-bc1f-b3c61f7e25b7"
      },
      "outputs": [
        {
          "output_type": "execute_result",
          "data": {
            "text/plain": [
              "tensor([[[[0.4552,   -inf,   -inf,   -inf,   -inf],\n",
              "          [0.1210, 0.4888,   -inf,   -inf,   -inf],\n",
              "          [0.3393, 0.5248, 0.3323,   -inf,   -inf],\n",
              "          [0.3450, 0.0795, 0.2660, 0.0186,   -inf],\n",
              "          [0.0831, 0.3135, 0.1947, 0.0895, 0.9230]]]])"
            ]
          },
          "metadata": {},
          "execution_count": 53
        }
      ],
      "source": [
        "masked = attn.masked_fill(bias[:,:,:5, :5] == 0, float('-inf'))\n",
        "masked"
      ]
    },
    {
      "cell_type": "code",
      "execution_count": null,
      "id": "f557bcdf",
      "metadata": {
        "id": "f557bcdf",
        "colab": {
          "base_uri": "https://localhost:8080/"
        },
        "outputId": "ceac9b9a-2f3a-48a0-c59f-45e62e544dce"
      },
      "outputs": [
        {
          "output_type": "execute_result",
          "data": {
            "text/plain": [
              "tensor([[[[1.0000, 0.0000, 0.0000, 0.0000, 0.0000],\n",
              "          [0.4091, 0.5909, 0.0000, 0.0000, 0.0000],\n",
              "          [0.3128, 0.3766, 0.3106, 0.0000, 0.0000],\n",
              "          [0.2931, 0.2247, 0.2708, 0.2114, 0.0000],\n",
              "          [0.1493, 0.1879, 0.1669, 0.1502, 0.3457]]]])"
            ]
          },
          "metadata": {},
          "execution_count": 54
        }
      ],
      "source": [
        "out = F.softmax(masked, dim=-1)\n",
        "out"
      ]
    },
    {
      "cell_type": "code",
      "execution_count": null,
      "id": "c495c581",
      "metadata": {
        "id": "c495c581"
      },
      "outputs": [],
      "source": [
        "# Your explanation goes here"
      ]
    },
    {
      "cell_type": "markdown",
      "id": "d430ae25",
      "metadata": {
        "id": "d430ae25"
      },
      "source": [
        "**Graded Task**: This masking is in place so that query tokens cannot\n",
        "\"look up\" key/values that are at a position with a larger index.\n",
        "Explain why this limitation means our GPT model cannot use information\n",
        "in subsequent/later tokens to form an understand of what what is in\n",
        "the current token.\n",
        "(Note: this masking is the \"Causal\" part of Causal Self-Attention!)"
      ]
    },
    {
      "cell_type": "code",
      "execution_count": null,
      "id": "2346ea89",
      "metadata": {
        "id": "2346ea89"
      },
      "outputs": [],
      "source": [
        "# Your explanation goes here\n",
        "# becuase the pre-softmax values of the future tokens are -inf so the probability\n",
        "# of those tokens will be 0 and hence we are preventing the model from attending\n",
        "# to the future tokens as the attention scores of all those future tokens will be 0"
      ]
    },
    {
      "cell_type": "markdown",
      "id": "3f4a2d0e",
      "metadata": {
        "id": "3f4a2d0e"
      },
      "source": [
        "**Task**: Your answer above explains which positions in the\n",
        "`out` tensor need to be set to zero. Explain why setting the\n",
        "corresponding value of pre-softmax tensor `masked` to `-inf`\n",
        "is necessary. Why can't we set the value of `masked` to 0\n",
        "in these positions?"
      ]
    },
    {
      "cell_type": "code",
      "execution_count": null,
      "id": "3310b282",
      "metadata": {
        "id": "3310b282"
      },
      "outputs": [],
      "source": [
        "# Your argument goes here"
      ]
    },
    {
      "cell_type": "markdown",
      "id": "48cdda81",
      "metadata": {
        "id": "48cdda81"
      },
      "source": [
        "**Task**: Argue that `out[0,0,0,0]` must always be 1."
      ]
    },
    {
      "cell_type": "code",
      "execution_count": null,
      "id": "03ebaa49",
      "metadata": {
        "id": "03ebaa49"
      },
      "outputs": [],
      "source": [
        "# Your argument goes here"
      ]
    },
    {
      "cell_type": "markdown",
      "id": "47332408",
      "metadata": {
        "id": "47332408"
      },
      "source": [
        "**Task**: Now, `out` in our example is akin to the final value of `att`\n",
        "in the `CausalSelfAttention.forward()` method. Explain why\n",
        "the operation `y = att @ v` computes a weighted sum of values at each\n",
        "token position, where the weights are defined by `att`."
      ]
    },
    {
      "cell_type": "code",
      "execution_count": null,
      "id": "fac81d71",
      "metadata": {
        "id": "fac81d71"
      },
      "outputs": [],
      "source": [
        "# Your explanation goes here"
      ]
    },
    {
      "cell_type": "markdown",
      "id": "da7d85a9",
      "metadata": {
        "id": "da7d85a9"
      },
      "source": [
        "**Task**: The above explanation pertain to a single attention head.\n",
        "Explain why using multiple attention heads allows a token position to\n",
        "consider information from various other positions. Alternatively,\n",
        "explain why using multiple heads might help the network learn different\n",
        "*ways* in which the meaning at one token could depend on other tokens."
      ]
    },
    {
      "cell_type": "code",
      "execution_count": null,
      "id": "da8e485c",
      "metadata": {
        "id": "da8e485c"
      },
      "outputs": [],
      "source": [
        "# Your explanation goes here"
      ]
    },
    {
      "cell_type": "markdown",
      "id": "d949e61d",
      "metadata": {
        "id": "d949e61d"
      },
      "source": [
        "**Graded Task**: Compute the total number of parameters in a GPT2 model\n",
        "by computing the following. Please use actual numbers in each case, assuming\n",
        "the GPT2 configuration from above.\n",
        "\n",
        "1. The number of parameters in a `CausalSelfAttention` model.\n",
        "2. The number of parameters in a `MLP` module.\n",
        "3. The number of parameters in a `Block` module.\n",
        "4. The number of parameters in all `Block` modules in a GPT2 model.\n",
        "5. The number of parameters in the `wte` embedding layer in a GPT2 model.\n",
        "6. The total number of parameters in a GPT2 model.\n",
        "\n",
        "Please perform the computation either by hand (and show your work),\n",
        "or with a function that clearly shows the computations.\n",
        "\n",
        "You should see that approximately 30% of the GPT2 weight comes from\n",
        "the `wte` embedding layer. This is why weight tying is used in\n",
        "the `GPT` module!"
      ]
    },
    {
      "cell_type": "code",
      "execution_count": null,
      "id": "ed1c9b67",
      "metadata": {
        "id": "ed1c9b67",
        "colab": {
          "base_uri": "https://localhost:8080/",
          "height": 107
        },
        "outputId": "4ce3fb1d-8d70-482d-e441-4d153834275f"
      },
      "outputs": [
        {
          "output_type": "execute_result",
          "data": {
            "text/plain": [
              "'\\nCausalSelfAttention Module\\nc_attn weights: 768 * (3 * 768) = 1,769,472\\nc_attn bias: 3 * 768 = 2,304\\nc_proj weights: 768 * 768 = 589,824\\nc_proj bias: 768\\nTotal = 1,769,472 + 2,304 + 589,824 + 768 = 2,362,368\\n\\nMLP Module\\nc_fc weights: 768 * (4 * 768) = 2,359,296\\nc_fc bias: 4 * 768 = 3,072\\nc_proj weights: (4 * 768) * 768 = 2,359,296\\nc_proj bias: 768\\nTotal = 2,359,296 + 3,072 + 2,359,296 + 768 = 4,722,432\\n\\nBlock Module:\\nLayerNorm: 2 * (768 + 768) = 1,536\\nCausalSelfAttention: 2,362,368\\nMLP: 4,722,432\\nTotal per Block = 1,536 + 2,362,368 + 4,722,432 = 7,086,336\\n\\nBlock Modules in GPT-2 Model\\nTotal = 7,086,336 * 12 = 85,036,032\\n\\nWT\\nwte weights: 50257 * 768 = 38,597,376\\n\\nTotal = Blocks + WTE = 85,036,032 + 38,597,376 = 123,633,408\\n'"
            ],
            "application/vnd.google.colaboratory.intrinsic+json": {
              "type": "string"
            }
          },
          "metadata": {},
          "execution_count": 61
        }
      ],
      "source": [
        "\"\"\"\n",
        "CausalSelfAttention Module\n",
        "c_attn weights: 768 * (3 * 768) = 1,769,472\n",
        "c_attn bias: 3 * 768 = 2,304\n",
        "c_proj weights: 768 * 768 = 589,824\n",
        "c_proj bias: 768\n",
        "Total = 1,769,472 + 2,304 + 589,824 + 768 = 2,362,368\n",
        "\n",
        "MLP Module\n",
        "c_fc weights: 768 * (4 * 768) = 2,359,296\n",
        "c_fc bias: 4 * 768 = 3,072\n",
        "c_proj weights: (4 * 768) * 768 = 2,359,296\n",
        "c_proj bias: 768\n",
        "Total = 2,359,296 + 3,072 + 2,359,296 + 768 = 4,722,432\n",
        "\n",
        "Block Module:\n",
        "LayerNorm: 2 * (768 + 768) = 1,536\n",
        "CausalSelfAttention: 2,362,368\n",
        "MLP: 4,722,432\n",
        "Total per Block = 1,536 + 2,362,368 + 4,722,432 = 7,086,336\n",
        "\n",
        "Block Modules in GPT-2 Model\n",
        "Total = 7,086,336 * 12 = 85,036,032\n",
        "\n",
        "WT weights: 50257 * 768 = 38,597,376\n",
        "\n",
        "Total = Blocks + WTE = 85,036,032 + 38,597,376 = 123,633,408\n",
        "\"\"\"\n"
      ]
    },
    {
      "cell_type": "markdown",
      "id": "ec2c2398",
      "metadata": {
        "id": "ec2c2398"
      },
      "source": [
        "## Part 3. Training\n",
        "\n",
        "We are ready to finetune our GPT2 model on the \"Friends\" data set!\n",
        "There is no graded task in this section since training this model can\n",
        "take some time to achieve reasonable performance.\n",
        "\n",
        "To run this part of the lab, you will need to use a GPU. On Google Colab, you can select\n",
        "a session with a GPU by navigating to the \"Runtime\" menu, selecting\n",
        "\"Change runtime type\", and then selecting the \"T4 GPU\" option.\n",
        "\n",
        "We will set up a `config` object to make it easier to store\n",
        "and use configs."
      ]
    },
    {
      "cell_type": "code",
      "execution_count": null,
      "id": "9db962ed",
      "metadata": {
        "id": "9db962ed",
        "outputId": "8a137551-bbbd-4483-83cf-c18358a252c6",
        "colab": {
          "base_uri": "https://localhost:8080/"
        }
      },
      "outputs": [
        {
          "output_type": "stream",
          "name": "stdout",
          "text": [
            "Requirement already satisfied: easydict in /usr/local/lib/python3.10/dist-packages (1.13)\n"
          ]
        }
      ],
      "source": [
        "%pip install easydict"
      ]
    },
    {
      "cell_type": "code",
      "execution_count": null,
      "id": "9b5305a3",
      "metadata": {
        "id": "9b5305a3"
      },
      "outputs": [],
      "source": [
        "import easydict\n",
        "import math\n",
        "import time\n",
        "\n",
        "finetune_config_dict = {\n",
        "  'gradient_accumulation_steps': 32,\n",
        "  'block_size': 256,\n",
        "  'dropout': 0.2,\n",
        "  'bias': False,\n",
        "  'learning_rate': 3e-5,\n",
        "  'weight_decay': 0.1,\n",
        "  'beta1': 0.9,\n",
        "  'beta2': 0.99,\n",
        "  'grad_clip': 1.0,\n",
        "  'decay_lr': False,\n",
        "  'warmup_iters': 100,\n",
        "  'lr_decay_iters': 5000,\n",
        "  'min_lr': 0.0001}\n",
        "config = easydict.EasyDict(finetune_config_dict)"
      ]
    },
    {
      "cell_type": "markdown",
      "id": "e0d6d856",
      "metadata": {
        "id": "e0d6d856"
      },
      "source": [
        "First, we need to load the GPT2 weights."
      ]
    },
    {
      "cell_type": "code",
      "execution_count": null,
      "id": "dd943f5f",
      "metadata": {
        "id": "dd943f5f",
        "outputId": "d65d487b-5508-4c59-801b-99b7fa68abb5",
        "colab": {
          "base_uri": "https://localhost:8080/",
          "height": 794,
          "referenced_widgets": [
            "e28754bc8e5d4ffb99f34bbd7c083703",
            "1bcd3027f80749cea5b709d39a377108",
            "07933b7af7bc400ea9bfc97ad4082dec",
            "bbbcf1e0630b407282171af987a93cbf",
            "77c4495ad9884244851a2a17701ca070",
            "7721b1b4f84e4e2380752a3d5867ddbb",
            "6a5a5bbae76c41dd93ba3baeb7decfb9",
            "cc5ca86dd2854cbba85e73a6685e589f",
            "f3c1eee4f3664b90a9546b0698232b47",
            "353c9d4698924d53a14c4fa06ed37f5a",
            "f9b062abcceb4028b4fb0e2533698038",
            "b693892233a04068803039258f3441b8",
            "fe14f779794948fbbf4ac3877e37adff",
            "f427f9caba2e4e2ea8ae625cf636736e",
            "55cab8e4481d434a931deb54b0980d94",
            "f1b6f3ae91d1465299dbd930634c2ba2",
            "4df0f6184adc48bc9ef651dc89899006",
            "d2139eaeb0e64916a9807a0db36b5a57",
            "27523ed353954c069dae0d95ffaf3bfe",
            "1628651e34ca4031a494e09f471b49d1",
            "89ee7d0989914533ad6268b73695ff40",
            "e93a61bc2deb4dbbb9aa15e1edf246fb",
            "25ee50b5ea48458cb80104cf47fd7f96",
            "50f053e2c21d40d98e2c9042b70f0812",
            "6d4e3670542d4c16a9502b34a9700ab4",
            "ca23732291b34016956ae2b4625142a8",
            "a1cccd5552d34798a690635460a534b4",
            "4fa07f7e79504679872b944f20b3150f",
            "b283b7924a59452d89dfc86add350b28",
            "a9f4bc066ee64985b886442f226b76f9",
            "aadc3d89592b43378f2bffafb632b535",
            "7db0348cd0554781a5161e8bd291e985",
            "02e0afa2c7d645d28565d2168b8e7f61"
          ]
        }
      },
      "outputs": [
        {
          "output_type": "stream",
          "name": "stdout",
          "text": [
            "loading weights from pretrained gpt: gpt2\n",
            "forcing vocab_size=50257, block_size=1024, bias=True\n",
            "overriding dropout rate to 0.2\n",
            "number of parameters: 123.65M\n"
          ]
        },
        {
          "output_type": "stream",
          "name": "stderr",
          "text": [
            "/usr/local/lib/python3.10/dist-packages/huggingface_hub/utils/_token.py:88: UserWarning: \n",
            "The secret `HF_TOKEN` does not exist in your Colab secrets.\n",
            "To authenticate with the Hugging Face Hub, create a token in your settings tab (https://huggingface.co/settings/tokens), set it as secret in your Google Colab and restart your session.\n",
            "You will be able to reuse this secret in all of your notebooks.\n",
            "Please note that authentication is recommended but still optional to access public models or datasets.\n",
            "  warnings.warn(\n"
          ]
        },
        {
          "output_type": "display_data",
          "data": {
            "text/plain": [
              "config.json:   0%|          | 0.00/665 [00:00<?, ?B/s]"
            ],
            "application/vnd.jupyter.widget-view+json": {
              "version_major": 2,
              "version_minor": 0,
              "model_id": "e28754bc8e5d4ffb99f34bbd7c083703"
            }
          },
          "metadata": {}
        },
        {
          "output_type": "display_data",
          "data": {
            "text/plain": [
              "model.safetensors:   0%|          | 0.00/548M [00:00<?, ?B/s]"
            ],
            "application/vnd.jupyter.widget-view+json": {
              "version_major": 2,
              "version_minor": 0,
              "model_id": "b693892233a04068803039258f3441b8"
            }
          },
          "metadata": {}
        },
        {
          "output_type": "display_data",
          "data": {
            "text/plain": [
              "generation_config.json:   0%|          | 0.00/124 [00:00<?, ?B/s]"
            ],
            "application/vnd.jupyter.widget-view+json": {
              "version_major": 2,
              "version_minor": 0,
              "model_id": "25ee50b5ea48458cb80104cf47fd7f96"
            }
          },
          "metadata": {}
        },
        {
          "output_type": "execute_result",
          "data": {
            "text/plain": [
              "GPT(\n",
              "  (transformer): ModuleDict(\n",
              "    (wte): Embedding(50257, 768)\n",
              "    (wpe): Embedding(1024, 768)\n",
              "    (drop): Dropout(p=0.2, inplace=False)\n",
              "    (h): ModuleList(\n",
              "      (0-11): 12 x Block(\n",
              "        (ln_1): LayerNorm()\n",
              "        (attn): CausalSelfAttention(\n",
              "          (c_attn): Linear(in_features=768, out_features=2304, bias=True)\n",
              "          (c_proj): Linear(in_features=768, out_features=768, bias=True)\n",
              "          (attn_dropout): Dropout(p=0.2, inplace=False)\n",
              "          (resid_dropout): Dropout(p=0.2, inplace=False)\n",
              "        )\n",
              "        (ln_2): LayerNorm()\n",
              "        (mlp): MLP(\n",
              "          (c_fc): Linear(in_features=768, out_features=3072, bias=True)\n",
              "          (gelu): GELU(approximate='none')\n",
              "          (c_proj): Linear(in_features=3072, out_features=768, bias=True)\n",
              "          (dropout): Dropout(p=0.2, inplace=False)\n",
              "        )\n",
              "      )\n",
              "    )\n",
              "    (ln_f): LayerNorm()\n",
              "  )\n",
              "  (lm_head): Linear(in_features=768, out_features=50257, bias=False)\n",
              ")"
            ]
          },
          "metadata": {},
          "execution_count": 64
        }
      ],
      "source": [
        "# initialize from OpenAI GPT-2 weights\n",
        "override_args = dict(dropout=config.dropout)\n",
        "model = GPT.from_pretrained('gpt2', override_args)\n",
        "\n",
        "# crop down the model block size using model surgery\n",
        "if config.block_size < model.config.block_size:\n",
        "    model.crop_block_size(config.block_size)\n",
        "\n",
        "device = 'cuda' if torch.cuda.is_available()  else 'cpu'\n",
        "model.to(device)"
      ]
    },
    {
      "cell_type": "markdown",
      "id": "014bf5a9",
      "metadata": {
        "id": "014bf5a9"
      },
      "source": [
        "**Task**: Explain why reducing the `block_size` do not significantly\n",
        "reduce the number of parameters, but *does* significantly reduce\n",
        "memory usage."
      ]
    },
    {
      "cell_type": "code",
      "execution_count": null,
      "id": "20e39aa8",
      "metadata": {
        "id": "20e39aa8"
      },
      "outputs": [],
      "source": [
        "# TODO: Include your explanation here"
      ]
    },
    {
      "cell_type": "markdown",
      "id": "678c0557",
      "metadata": {
        "id": "678c0557"
      },
      "source": [
        "There are some additional helpers to improve training."
      ]
    },
    {
      "cell_type": "code",
      "execution_count": null,
      "id": "b2f126cb",
      "metadata": {
        "id": "b2f126cb"
      },
      "outputs": [],
      "source": [
        "from contextlib import nullcontext\n",
        "# initialize a GradScaler. If enabled=False scaler is a no-op\n",
        "dtype = 'bfloat16' if torch.cuda.is_available() and torch.cuda.is_bf16_supported() else 'float16'\n",
        "ptdtype = {'float32': torch.float32, 'bfloat16': torch.bfloat16, 'float16': torch.float16}[dtype]\n",
        "ctx = nullcontext() if device == 'cpu' else torch.amp.autocast(device_type=device, dtype=ptdtype)\n",
        "scaler = torch.cuda.amp.GradScaler(enabled=(dtype == 'float16'))\n",
        "\n",
        "# learning rate decay scheduler (cosine with warmup)\n",
        "def get_lr(config, it):\n",
        "    # 1) linear warmup for warmup_iters steps\n",
        "    if it < config.warmup_iters:\n",
        "        return config.learning_rate * it / config.warmup_iters\n",
        "    # 2) if it > lr_decay_iters, return min learning rate\n",
        "    if it > config.lr_decay_iters:\n",
        "        return config.min_lr\n",
        "    # 3) in between, use cosine decay down to min learning rate\n",
        "    decay_ratio = (it - config.warmup_iters) / (config.lr_decay_iters - config.warmup_iters)\n",
        "    assert 0 <= decay_ratio <= 1\n",
        "    coeff = 0.5 * (1.0 + math.cos(math.pi * decay_ratio)) # coeff ranges 0..1\n",
        "    return config.min_lr + coeff * (config.learning_rate - config.min_lr)\n",
        "\n",
        "# helps estimate an arbitrarily accurate loss over either split using many batches\n",
        "@torch.no_grad()\n",
        "def estimate_loss(model, train_dataset, val_dataset, block_size):\n",
        "    out = {}\n",
        "    model.eval()\n",
        "    for split in ['train', 'val']:\n",
        "        losses = torch.zeros(eval_iters)\n",
        "        dataset = train_dataset if split == 'train' else val_dataset\n",
        "        for k in range(eval_iters):\n",
        "            X, Y = get_batch(dataset, block_size, batch_size, device)\n",
        "            with ctx:\n",
        "                logits, loss = model(X, Y)\n",
        "            losses[k] = loss.item()\n",
        "        out[split] = losses.mean()\n",
        "    model.train()\n",
        "    return out"
      ]
    },
    {
      "cell_type": "markdown",
      "id": "62dbfec1",
      "metadata": {
        "id": "62dbfec1"
      },
      "source": [
        "Now we can begin the training loop. You may need to increase `max_iter`\n",
        "to obtain good results."
      ]
    },
    {
      "cell_type": "code",
      "execution_count": null,
      "id": "4014bf8e",
      "metadata": {
        "id": "4014bf8e",
        "colab": {
          "base_uri": "https://localhost:8080/"
        },
        "outputId": "5dea6394-c2e6-4943-8e39-19ad67baacb4"
      },
      "outputs": [
        {
          "output_type": "stream",
          "name": "stdout",
          "text": [
            "num decayed parameter tensors: 50, with 123,728,640 parameters\n",
            "num non-decayed parameter tensors: 98, with 121,344 parameters\n",
            "using fused AdamW: True\n",
            "step 0: train loss 3.2839, val loss 3.4201\n",
            "iter 0: loss 3.9722, time 3473.17ms, mfu -100.00%\n",
            "step 10: train loss 3.1833, val loss 3.2590\n",
            "iter 10: loss 3.5655, time 3036.61ms, mfu 0.67%\n",
            "step 20: train loss 3.1610, val loss 3.2233\n",
            "iter 20: loss 3.9448, time 2237.28ms, mfu 0.69%\n",
            "step 30: train loss 3.1039, val loss 3.1645\n",
            "iter 30: loss 3.7869, time 2324.14ms, mfu 0.71%\n",
            "step 40: train loss 3.1111, val loss 3.1735\n",
            "iter 40: loss 3.1244, time 2069.78ms, mfu 0.73%\n",
            "step 50: train loss 3.0568, val loss 3.2028\n",
            "iter 50: loss 3.0406, time 2091.12ms, mfu 0.76%\n",
            "step 60: train loss 2.9916, val loss 3.1457\n",
            "iter 60: loss 3.1260, time 2095.07ms, mfu 0.78%\n",
            "step 70: train loss 2.9572, val loss 3.1251\n",
            "iter 70: loss 2.8289, time 2079.06ms, mfu 0.80%\n",
            "step 80: train loss 2.8874, val loss 3.1793\n",
            "iter 80: loss 3.4300, time 2367.33ms, mfu 0.80%\n",
            "step 90: train loss 2.9480, val loss 3.2206\n",
            "iter 90: loss 2.9248, time 2069.90ms, mfu 0.82%\n",
            "step 100: train loss 2.8935, val loss 3.1666\n",
            "iter 100: loss 3.0392, time 2069.07ms, mfu 0.84%\n",
            "step 110: train loss 2.9265, val loss 3.1530\n",
            "iter 110: loss 2.9821, time 2271.91ms, mfu 0.84%\n",
            "step 120: train loss 2.8851, val loss 3.2466\n",
            "iter 120: loss 3.3436, time 2198.43ms, mfu 0.85%\n",
            "step 130: train loss 2.9132, val loss 3.1525\n",
            "iter 130: loss 3.1889, time 2076.39ms, mfu 0.86%\n",
            "step 140: train loss 2.8897, val loss 3.0845\n",
            "iter 140: loss 2.8187, time 2077.14ms, mfu 0.87%\n",
            "step 150: train loss 2.8825, val loss 3.1669\n",
            "iter 150: loss 3.3925, time 2081.73ms, mfu 0.88%\n",
            "step 160: train loss 2.8082, val loss 3.1588\n",
            "iter 160: loss 3.0269, time 2071.97ms, mfu 0.89%\n",
            "step 170: train loss 2.9041, val loss 3.1744\n",
            "iter 170: loss 3.3263, time 2061.14ms, mfu 0.90%\n",
            "step 180: train loss 2.8150, val loss 3.2427\n",
            "iter 180: loss 2.8763, time 2069.16ms, mfu 0.91%\n",
            "step 190: train loss 2.7835, val loss 3.1671\n",
            "iter 190: loss 2.9128, time 2073.92ms, mfu 0.92%\n",
            "step 200: train loss 2.7826, val loss 3.1353\n",
            "iter 200: loss 2.8698, time 2245.84ms, mfu 0.91%\n",
            "step 210: train loss 2.7842, val loss 3.1926\n",
            "iter 210: loss 2.8196, time 2290.18ms, mfu 0.91%\n",
            "step 220: train loss 2.7621, val loss 3.1896\n",
            "iter 220: loss 2.9324, time 2074.70ms, mfu 0.92%\n",
            "step 230: train loss 2.7992, val loss 3.1963\n",
            "iter 230: loss 3.2021, time 2073.44ms, mfu 0.92%\n",
            "step 240: train loss 2.6909, val loss 3.1757\n",
            "iter 240: loss 3.2590, time 2077.06ms, mfu 0.93%\n",
            "step 250: train loss 2.7014, val loss 3.2644\n",
            "iter 250: loss 2.9050, time 2083.14ms, mfu 0.93%\n",
            "step 260: train loss 2.7150, val loss 3.2112\n",
            "iter 260: loss 2.9679, time 2067.36ms, mfu 0.94%\n",
            "step 270: train loss 2.7520, val loss 3.2576\n",
            "iter 270: loss 2.7667, time 2071.46ms, mfu 0.94%\n",
            "step 280: train loss 2.6792, val loss 3.2312\n",
            "iter 280: loss 2.7568, time 2081.57ms, mfu 0.94%\n",
            "step 290: train loss 2.6812, val loss 3.2307\n",
            "iter 290: loss 2.9669, time 2184.47ms, mfu 0.94%\n",
            "step 300: train loss 2.6645, val loss 3.2204\n",
            "iter 300: loss 2.7059, time 2313.24ms, mfu 0.94%\n",
            "step 310: train loss 2.6635, val loss 3.1978\n",
            "iter 310: loss 3.4337, time 2080.22ms, mfu 0.94%\n",
            "step 320: train loss 2.6706, val loss 3.2127\n",
            "iter 320: loss 2.6832, time 2075.42ms, mfu 0.94%\n",
            "step 330: train loss 2.6510, val loss 3.1854\n",
            "iter 330: loss 2.5192, time 2071.75ms, mfu 0.95%\n",
            "step 340: train loss 2.5726, val loss 3.3518\n",
            "iter 340: loss 2.9837, time 2066.90ms, mfu 0.95%\n",
            "step 350: train loss 2.6052, val loss 3.1604\n",
            "iter 350: loss 2.8869, time 2070.75ms, mfu 0.95%\n",
            "step 360: train loss 2.6356, val loss 3.2427\n",
            "iter 360: loss 2.9715, time 2078.57ms, mfu 0.95%\n",
            "step 370: train loss 2.6243, val loss 3.2374\n",
            "iter 370: loss 3.2060, time 2076.27ms, mfu 0.96%\n",
            "step 380: train loss 2.5375, val loss 3.2551\n",
            "iter 380: loss 2.7072, time 2096.43ms, mfu 0.96%\n",
            "step 390: train loss 2.5228, val loss 3.2738\n",
            "iter 390: loss 2.8120, time 2317.00ms, mfu 0.95%\n",
            "step 400: train loss 2.5776, val loss 3.1955\n",
            "iter 400: loss 2.6132, time 2121.60ms, mfu 0.95%\n",
            "step 410: train loss 2.5571, val loss 3.3013\n",
            "iter 410: loss 2.8232, time 2077.25ms, mfu 0.95%\n",
            "step 420: train loss 2.5008, val loss 3.2830\n",
            "iter 420: loss 2.5320, time 2084.23ms, mfu 0.95%\n",
            "step 430: train loss 2.5085, val loss 3.2816\n",
            "iter 430: loss 3.1278, time 2076.10ms, mfu 0.96%\n",
            "step 440: train loss 2.4867, val loss 3.3057\n",
            "iter 440: loss 2.8878, time 2078.44ms, mfu 0.96%\n",
            "step 450: train loss 2.4584, val loss 3.2552\n",
            "iter 450: loss 2.6416, time 2079.37ms, mfu 0.96%\n",
            "step 460: train loss 2.4970, val loss 3.2974\n",
            "iter 460: loss 2.6093, time 2100.78ms, mfu 0.96%\n",
            "step 470: train loss 2.4604, val loss 3.2907\n",
            "iter 470: loss 2.6133, time 2120.13ms, mfu 0.96%\n",
            "step 480: train loss 2.4793, val loss 3.2523\n",
            "iter 480: loss 2.0960, time 2250.69ms, mfu 0.95%\n",
            "step 490: train loss 2.4449, val loss 3.2687\n",
            "iter 490: loss 2.5554, time 2225.26ms, mfu 0.95%\n",
            "step 500: train loss 2.4208, val loss 3.3146\n",
            "iter 500: loss 2.9137, time 2072.73ms, mfu 0.95%\n",
            "step 510: train loss 2.4613, val loss 3.3057\n",
            "iter 510: loss 2.6496, time 2078.32ms, mfu 0.95%\n",
            "step 520: train loss 2.4775, val loss 3.3975\n",
            "iter 520: loss 2.6452, time 2075.34ms, mfu 0.96%\n",
            "step 530: train loss 2.4308, val loss 3.3202\n",
            "iter 530: loss 2.8726, time 2082.17ms, mfu 0.96%\n",
            "step 540: train loss 2.3498, val loss 3.2612\n",
            "iter 540: loss 2.6495, time 2077.23ms, mfu 0.96%\n",
            "step 550: train loss 2.3723, val loss 3.3231\n",
            "iter 550: loss 2.6767, time 2073.16ms, mfu 0.96%\n",
            "step 560: train loss 2.4093, val loss 3.3804\n",
            "iter 560: loss 2.5278, time 2077.60ms, mfu 0.96%\n",
            "step 570: train loss 2.4282, val loss 3.3506\n",
            "iter 570: loss 2.2928, time 2186.98ms, mfu 0.96%\n",
            "step 580: train loss 2.3559, val loss 3.3134\n",
            "iter 580: loss 2.5275, time 2353.04ms, mfu 0.95%\n",
            "step 590: train loss 2.3537, val loss 3.3312\n",
            "iter 590: loss 2.4630, time 2086.58ms, mfu 0.95%\n",
            "step 600: train loss 2.2556, val loss 3.2913\n",
            "iter 600: loss 2.6877, time 2099.50ms, mfu 0.95%\n",
            "step 610: train loss 2.2920, val loss 3.3396\n",
            "iter 610: loss 2.5117, time 2076.66ms, mfu 0.95%\n",
            "step 620: train loss 2.3167, val loss 3.3465\n",
            "iter 620: loss 2.4412, time 2101.73ms, mfu 0.95%\n",
            "step 630: train loss 2.3319, val loss 3.3535\n",
            "iter 630: loss 2.5582, time 2084.07ms, mfu 0.96%\n",
            "step 640: train loss 2.3248, val loss 3.3517\n",
            "iter 640: loss 2.5011, time 2063.29ms, mfu 0.96%\n",
            "step 650: train loss 2.2895, val loss 3.3212\n",
            "iter 650: loss 2.6049, time 2074.35ms, mfu 0.96%\n",
            "step 660: train loss 2.2783, val loss 3.3664\n",
            "iter 660: loss 2.8460, time 2075.15ms, mfu 0.96%\n",
            "step 670: train loss 2.2152, val loss 3.3965\n",
            "iter 670: loss 2.3103, time 2270.85ms, mfu 0.95%\n",
            "step 680: train loss 2.3014, val loss 3.4117\n",
            "iter 680: loss 2.5541, time 2133.68ms, mfu 0.95%\n",
            "step 690: train loss 2.2671, val loss 3.3869\n",
            "iter 690: loss 2.8047, time 2105.41ms, mfu 0.95%\n",
            "step 700: train loss 2.2286, val loss 3.3978\n",
            "iter 700: loss 2.6495, time 2082.70ms, mfu 0.96%\n",
            "step 710: train loss 2.2332, val loss 3.3229\n",
            "iter 710: loss 2.6618, time 2066.70ms, mfu 0.96%\n",
            "step 720: train loss 2.1997, val loss 3.4121\n",
            "iter 720: loss 2.3298, time 2068.88ms, mfu 0.96%\n",
            "step 730: train loss 2.1500, val loss 3.4186\n",
            "iter 730: loss 2.4035, time 2071.36ms, mfu 0.96%\n",
            "step 740: train loss 2.2268, val loss 3.4151\n",
            "iter 740: loss 2.7310, time 2077.82ms, mfu 0.96%\n",
            "step 750: train loss 2.1613, val loss 3.4299\n",
            "iter 750: loss 2.6826, time 2084.87ms, mfu 0.96%\n",
            "step 760: train loss 2.2293, val loss 3.4288\n",
            "iter 760: loss 2.1831, time 2220.54ms, mfu 0.96%\n",
            "step 770: train loss 2.1932, val loss 3.4298\n",
            "iter 770: loss 2.8885, time 2301.82ms, mfu 0.95%\n",
            "step 780: train loss 2.1737, val loss 3.4021\n",
            "iter 780: loss 2.4439, time 2095.03ms, mfu 0.95%\n",
            "step 790: train loss 2.1636, val loss 3.4708\n",
            "iter 790: loss 2.5629, time 2079.36ms, mfu 0.95%\n",
            "step 800: train loss 2.1086, val loss 3.4582\n",
            "iter 800: loss 2.2603, time 2070.78ms, mfu 0.96%\n",
            "step 810: train loss 2.1613, val loss 3.4227\n",
            "iter 810: loss 2.4903, time 2076.40ms, mfu 0.96%\n",
            "step 820: train loss 2.0827, val loss 3.4227\n",
            "iter 820: loss 2.1861, time 2078.59ms, mfu 0.96%\n",
            "step 830: train loss 2.0785, val loss 3.4516\n",
            "iter 830: loss 2.2351, time 2069.68ms, mfu 0.96%\n",
            "step 840: train loss 2.0591, val loss 3.4898\n",
            "iter 840: loss 2.4883, time 2078.96ms, mfu 0.96%\n",
            "step 850: train loss 2.0420, val loss 3.4624\n",
            "iter 850: loss 2.5576, time 2167.64ms, mfu 0.96%\n",
            "step 860: train loss 2.0644, val loss 3.4586\n",
            "iter 860: loss 2.4540, time 2308.66ms, mfu 0.95%\n",
            "step 870: train loss 2.0665, val loss 3.5317\n",
            "iter 870: loss 2.1869, time 2075.99ms, mfu 0.95%\n",
            "step 880: train loss 2.0255, val loss 3.5117\n",
            "iter 880: loss 2.7511, time 2067.76ms, mfu 0.96%\n",
            "step 890: train loss 2.0436, val loss 3.4953\n",
            "iter 890: loss 2.2343, time 2086.49ms, mfu 0.96%\n",
            "step 900: train loss 1.9726, val loss 3.5815\n",
            "iter 900: loss 2.3588, time 2076.68ms, mfu 0.96%\n",
            "step 910: train loss 2.0818, val loss 3.5328\n",
            "iter 910: loss 2.3753, time 2082.19ms, mfu 0.96%\n",
            "step 920: train loss 2.0138, val loss 3.4674\n",
            "iter 920: loss 2.6807, time 2104.95ms, mfu 0.96%\n",
            "step 930: train loss 2.0157, val loss 3.5471\n",
            "iter 930: loss 2.3646, time 2076.05ms, mfu 0.96%\n",
            "step 940: train loss 2.0215, val loss 3.4645\n",
            "iter 940: loss 2.1607, time 2066.38ms, mfu 0.96%\n",
            "step 950: train loss 1.9943, val loss 3.5989\n",
            "iter 950: loss 2.2376, time 2307.43ms, mfu 0.95%\n",
            "step 960: train loss 1.9902, val loss 3.5339\n",
            "iter 960: loss 2.1573, time 2215.32ms, mfu 0.95%\n",
            "step 970: train loss 1.9569, val loss 3.5451\n",
            "iter 970: loss 2.4199, time 2072.11ms, mfu 0.95%\n",
            "step 980: train loss 1.9399, val loss 3.6130\n",
            "iter 980: loss 2.3747, time 2095.44ms, mfu 0.95%\n",
            "step 990: train loss 1.9056, val loss 3.5711\n",
            "iter 990: loss 2.3092, time 2111.36ms, mfu 0.95%\n",
            "step 1000: train loss 1.8943, val loss 3.6500\n",
            "iter 1000: loss 1.9542, time 2086.10ms, mfu 0.96%\n"
          ]
        }
      ],
      "source": [
        "iter_num = 0\n",
        "best_val_loss = 1e9\n",
        "eval_interval = 10\n",
        "log_interval = 10\n",
        "eval_iters = 40\n",
        "max_iters = 1000\n",
        "batch_size = 1\n",
        "\n",
        "# optimizer\n",
        "optimizer = model.configure_optimizers(config.weight_decay, config.learning_rate,\n",
        "   (config.beta1, config.beta2), device)\n",
        "\n",
        "# training loop\n",
        "X, Y = get_batch(train_data, config.block_size, batch_size, device) # fetch the very first batch\n",
        "t0 = time.time()\n",
        "local_iter_num = 0 # number of iterations in the lifetime of this process\n",
        "raw_model = model # unwrap DDP container if needed\n",
        "running_mfu = -1.0\n",
        "while True:\n",
        "    # determine and set the learning rate for this iteration\n",
        "    lr = get_lr(config, iter_num) if config.decay_lr else config.learning_rate\n",
        "    for param_group in optimizer.param_groups:\n",
        "        param_group['lr'] = lr\n",
        "\n",
        "    # evaluate the loss on train/val sets and write checkpoints\n",
        "    if iter_num % eval_interval == 0:\n",
        "        losses = estimate_loss(model, train_data, val_data, config.block_size)\n",
        "        print(f\"step {iter_num}: train loss {losses['train']:.4f}, val loss {losses['val']:.4f}\")\n",
        "\n",
        "    # forward backward update, with optional gradient accumulation to simulate larger batch size\n",
        "    # and using the GradScaler if data type is float16\n",
        "    for micro_step in range(config.gradient_accumulation_steps):\n",
        "        with ctx:\n",
        "            logits, loss = model(X, Y)\n",
        "            loss = loss / config.gradient_accumulation_steps # scale the loss to account for gradient accumulation\n",
        "        # immediately async prefetch next batch while model is doing the forward pass on the GPU\n",
        "        X, Y = get_batch(train_data, config.block_size, batch_size, device)\n",
        "        # backward pass, with gradient scaling if training in fp16\n",
        "        scaler.scale(loss).backward()\n",
        "\n",
        "    # clip the gradient\n",
        "    if config.grad_clip != 0.0:\n",
        "        scaler.unscale_(optimizer)\n",
        "        torch.nn.utils.clip_grad_norm_(model.parameters(), config.grad_clip)\n",
        "\n",
        "    # step the optimizer and scaler if training in fp16\n",
        "    scaler.step(optimizer)\n",
        "    scaler.update()\n",
        "\n",
        "    # flush the gradients as soon as we can, no need for this memory anymore\n",
        "    optimizer.zero_grad(set_to_none=True)\n",
        "\n",
        "    # timing and logging\n",
        "    t1 = time.time()\n",
        "    dt = t1 - t0\n",
        "    t0 = t1\n",
        "    if iter_num % log_interval == 0:\n",
        "        # get loss as float. note: this is a CPU-GPU sync point\n",
        "        # scale up to undo the division above, approximating the true total loss (exact would have been a sum)\n",
        "        lossf = loss.item() * config.gradient_accumulation_steps\n",
        "        if local_iter_num >= 5: # let the training loop settle a bit\n",
        "            mfu = raw_model.estimate_mfu(batch_size * config.gradient_accumulation_steps, dt)\n",
        "            running_mfu = mfu if running_mfu == -1.0 else 0.9*running_mfu + 0.1*mfu\n",
        "        print(f\"iter {iter_num}: loss {lossf:.4f}, time {dt*1000:.2f}ms, mfu {running_mfu*100:.2f}%\")\n",
        "\n",
        "    iter_num += 1\n",
        "    local_iter_num += 1\n",
        "\n",
        "    # termination conditions\n",
        "    if iter_num > max_iters:\n",
        "        break"
      ]
    },
    {
      "cell_type": "markdown",
      "id": "f72d0044",
      "metadata": {
        "id": "f72d0044"
      },
      "source": [
        "Here is some code you can use to generate a sequence using the fine-tuned\n",
        "GPT2 model."
      ]
    },
    {
      "cell_type": "code",
      "execution_count": null,
      "id": "15a09622",
      "metadata": {
        "id": "15a09622",
        "colab": {
          "base_uri": "https://localhost:8080/"
        },
        "outputId": "35c0b069-a77b-4920-ad4c-5dea82d63e28"
      },
      "outputs": [
        {
          "output_type": "stream",
          "name": "stdout",
          "text": [
            " okay that you're here?\n",
            "You want the cash.\n",
            "It's fine, you got it.\n",
            "You can't have the cash, can you?\n",
            "To the bank!\n",
            "Please... you can't really blame him.\n",
            "But...\n",
            "Of course you're.\n",
            "You're gonna be late for our dinner.\n",
            "I'm a lawyer in England.\n",
            "Yes!!\n",
            "Hello.\n",
            "You were supposed to meet someone for the first time in London.\n",
            "I'm sorry, but I'm really depressed about you. I know that you really want this, but I'm really upset about you.\n",
            "Oh, you don't get a present for that.\n",
            "Oh but do you want a present for someone?\n",
            "The queen of England has invited you to the wedding?\n",
            "Oh, you're a terrible person.\n",
            "Don't worry, you're gonna love me.\n",
            "Okay, just give me the money.\n",
            "Let's see, I've been doing my best work, and I know I owe you money, but if you don't, then I'm not gonna be happy.\n",
            "I'll do it!\n",
            "You can? Come on, keep the memories alive.\n",
            "I know!\n",
            "Wow! My Cousin Cassie has come over to say\n",
            "---------------\n",
            " a lot of friends, but.\n",
            "Yeah, well, I know, I've been getting really bad calls in the last couple of days and I'm getting really cold at work, so maybe I should consider going down with Chandler.\n",
            "I know, Rachel has a lot of things to ask you to consider, but I think it's best if you think about it.\n",
            "It's not always fair.\n",
            "Yeah, yeah, I mean it's fair, we're just gonna have to decide.\n",
            "What?\n",
            "There's nothing exciting about it!\n",
            "Oh, you're so cute.\n",
            "I've never had a crush on a friend as good as you!\n",
            "The guy with the telescope was my best friend back in high school, and one day they took me to his party because I was good!\n",
            "Oh, I wish I could this.\n",
            "Okay.\n",
            "That's not okay.\n",
            "I hope you're okay. Just try to be practical. Don't be a big deal.\n",
            "Okay.\n",
            "I don't make that.\n",
            "No.\n",
            "You're not gonna hear about this stuff ever again.\n",
            "That's not gonna happen.\n",
            "That's not gonna happen.\n",
            "Oh.\n",
            "That's not true.\n",
            "No, I have not.\n",
            "---------------\n",
            "\n",
            "Hi.\n",
            "I'm still in the shower, okay?\n",
            "What?\n",
            "I don't know, I wanna do it tonight. I want to be with you all day and then see what happens.\n",
            "I know I don't want a guy who doesn't want to be with someone who doesn't want to be with that guy.\n",
            "I'm just gonna go to my room and get some porn.\n",
            "How do you know I want it?\n",
            "What?!\n",
            "Oh my God, the guy I'm in. Ok, I didn't tell you. I wanna have it. I wanna have it tonight.\n",
            "Okay.\n",
            "Yes, I said do.\n",
            "Edward Klein?\n",
            "Oh, please! Oh my God! Ow, I'm so sorry.\n",
            "I mean I wish I could get to watch my boyfriend naked.\n",
            "Yes, but that's not what we do.\n",
            "Oh, you don't have a right to pet him.\n",
            "Is he a really bad guy?\n",
            "No.\n",
            "Okay, I'm sick. I'm sick and I have a really bad boyfriend. I swear to this, I was really nice to him, but not really sweet. You know, when you first got engaged, he was a lot more clingy.\n",
            "\n",
            "---------------\n",
            " Rachel.\n",
            "What?!\n",
            "Yeah, well maybe it's because you and I are in a state of-huddle.\n",
            "Yeah, it's a really small step, I just-I just thought it was nice.\n",
            "Oh God! That's it, I've never seen a naked lesbian before.\n",
            "Well, I had to.\n",
            "Oh, that's good. Hm-hmm.\n",
            "I don't know.\n",
            "Oh!\n",
            "No!\n",
            "Well, you're not as big a party as I am.\n",
            "What?\n",
            "Wait, wait, wait, wait, wait, wait!\n",
            "Rachel's the one calling.\n",
            "Oh, wait, wait, wait, wait!\n",
            "No.\n",
            "Hey.\n",
            "I was just waiting for the perfect guy.\n",
            "Oh my God, I wish we had the perfect guy.\n",
            "Okay, wait, wait, wait, then-then, I think we have to have you go home.\n",
            "Okay, go!\n",
            "Yeah, now I'm going to bed. And you're just gonna wait.\n",
            "You think you're a little older, are you?\n",
            "You're so good, you're not gonna let that thing go on?\n",
            "Yeah.\n",
            "Oh, and you don't know me.\n",
            "---------------\n",
            ". I just don't think you're getting the whole package.\n",
            "Mom, when you first joined the club, you hired Monica. And now, she's going on your mission to the Frisbee's.\n",
            "Well, why is she trying to steal your makeup?\n",
            "Chandler, there are no creeps at all!\n",
            "No.\n",
            "Hey, don't worry, Chandler, he'll be fine.\n",
            "Okay, there's no need to talk.\n",
            "Joey, what are you doing today?\n",
            "Hey.\n",
            "Joey, you gotta call the Spackelacs.\n",
            "Hey, hey, where are we?\n",
            "Yeah, well, we had some gas and we checked in, so it doesn't seem like something's broken.\n",
            "Oh, just realized that one of your Secret Six girlfriends is cheating.\n",
            "So, what's the plan?\n",
            "Oh, you are.\n",
            "Really?! You are so smart!\n",
            "Would you stop seeing me?\n",
            "Honey, please don't let this light back against your window. Please!\n",
            "Hey, how's it going?\n",
            "I'm so glad you guys got here.\n",
            "Okay, I'm gonna go get some coffee and some cookies.\n",
            "Oh, I can't believe you're here.\n",
            "\n",
            "---------------\n",
            " have to leave.\n",
            "I'll take you, I'll take you.\n",
            "Hi, uh.\n",
            "I think I'll meet your parents in about a minute.\n",
            "Your grandmother?\n",
            "Okay.\n",
            "Ah, but she's not gonna see you tonight.\n",
            "I'm sorry, bye-bye.\n",
            "It's the night that you fell asleep on the couch.\n",
            "Now, by your count.\n",
            "I'm so sorry.\n",
            "Okay.\n",
            "Well, I don't want you too to apologize. It's just that- it doesn't feel right for you.\n",
            "Oh, I don't know, I'm sorry. I am sorry, I just- I think it's just, it's not too good.\n",
            "You're not a puppet, you're a person.\n",
            "You're not real.\n",
            "No, I don't.\n",
            "Oh, you are a puppet.\n",
            "What's the matter?\n",
            "Then you're not a part of something.\n",
            "Oh, 'cause umm, I bet your mother you're not.\n",
            "Oh well maybe you're not.\n",
            "Oh, you're not a puppet.\n",
            "Oh, wait! You're not a puppet.\n",
            "I think that's a good idea.\n",
            "Yeah, well, I-I think\n",
            "---------------\n",
            " about our anniversary. You're not gonna have sex on my birthday.\n",
            "All right, they say you're not gonna have sex with me, okay.\n",
            "Wait a minute, that's okay, you're not gonna have sex on your birthday, you're not gonna have sex on your birthday. That's a hard two minute commitment.\n",
            "So, you're not gonna have sex on your birthday?\n",
            "All right, I'm gonna go to sleep okay. I'm not gonna have sex on my birthday.\n",
            "What are you doing?!\n",
            "Hey, this isn't healthy.\n",
            "You're never gonna get to be with someone like this again, okay?\n",
            "I can go to sleep with this guy, I promise you, you don't have to take any of my stuff. I promise you, you're not gonna get me any worse than you already are.\n",
            "Phoebe, that is so sweet.\n",
            "I can't believe you brought your dog in there!\n",
            "Phoebe? What is the matter with him?\n",
            "Here, here's your dog. I'm gonna wash him.\n",
            "Oh no, no, this is not going to happen. Oh, as long as it doesn't happen that my dog will be attracted to you, well, whatever\n",
            "---------------\n",
            " taking her.\n",
            "I just wanted to say thanks.\n",
            "Have you got the turkey yet?\n",
            "Okay, I'm going to do the turkey.\n",
            "Good.\n",
            "Okay, I'm just going to wait for her to catch it.\n",
            "Oh, she's not returning.\n",
            "All right, I have to umm, I'm sorry but umm, I haven't set a date yet.\n",
            "Okay, I'm just umm, I'm just gonna go to the bathroom and get some.\n",
            "Yeah.\n",
            "Oh, I have-I have to call before she gets the turkey.\n",
            "Yeah, so?\n",
            "No, wait, just wait. And-and-and the only way to get the turkey is to the salt shaker. So, the turkey, or the stuffing, or whatever else you want to call it.\n",
            "Hey.\n",
            "Okay, you cleaned it. And the towels are cold. Oh, are you gonna do the fancy macca string?\n",
            "Okay Joey, I'm not gonna go to these. I'm gonna go to the bathroom.\n",
            "Oh, right, I'm sorry, I'm going to the shower.\n",
            "Okay, I'm sorry, I'm sorry, I'm sorry, but um, I think that\n",
            "---------------\n",
            "\n",
            "Ohh, yeah, yeah, but if I didn't tell you that, you'd have to take me out to dinner.\n",
            "Oh, the guy's so nice.\n",
            "Oh, this is sooo perfect.\n",
            "C'mon.\n",
            "Ooh, we're over here.\n",
            "Oh, um, oh my God, oh my God! You're so efficient. 'Cause youee I can't tell you how much I love you.\n",
            "I'm sorry, it's only been a few days. Oh, I'm gonna go get coffee. I'm gonna go down to the fish market, and if you want a drink, you'll find one under that door.\n",
            "Cute.\n",
            "Oh, you see your teeth are flat.\n",
            "So, I recommended you to me, and he's already doing great. Oh, great!\n",
            "I wish you could take a picture, I had a heart attack.\n",
            "God, what's going on?\n",
            "No. No, not really. I've just been drinking my milk.\n",
            "Oh, I'm sorry.\n",
            "Uh, where's the dump?\n",
            "Phoebe, I'm not coming to dinner, I'm gonna be filling in on Saturday night.\n",
            "Nah, I'm sorry.\n",
            "---------------\n",
            "'m not gonna move! I'm gonna be moving in with you!\n",
            "Really?! I mean, I can't leave you alone!\n",
            "Please, since the bathroom was free, I thought I would move in with you.\n",
            "No, I is moving in with you.\n",
            "Oh my God! Rachel! Please, don't look now! I'm moving in with you!\n",
            "It's unbelievable. No, I'm just trying to take a first class.\n",
            "What?!\n",
            "This is so crazy.\n",
            "I'm so sorry.\n",
            "Oh, she's not here.\n",
            "Oh, I can't see her anymore!\n",
            "Are you Rachel?\n",
            "Okay! But, I guess I still can.\n",
            "Ooh, it's good.\n",
            "Ooh, I'll see you soon.\n",
            "Okay.\n",
            "I'm not.\n",
            "Oh, what's so I hadn't eaten dinner yet?\n",
            "Oh-Oh, sweetie I don't know what I'm doing.\n",
            "Oh God!\n",
            "I guess.\n",
            "Then why?\n",
            "To know what it is.\n",
            "How did it go with you?\n",
            "This, I already booked a room at LaGuarda's.\n",
            "Really?\n",
            "Oh, they're great! The food's great! The food's fresh\n",
            "---------------\n"
          ]
        }
      ],
      "source": [
        "init_from = 'resume' # either 'resume' (from an out_dir) or a gpt2 variant (e.g. 'gpt2-xl')\n",
        "out_dir = 'out' # ignored if init_from is not 'resume'\n",
        "start = \"\\n\" # or \"<|endoftext|>\" or etc. Can also specify a file, use as: \"FILE:prompt.txt\"\n",
        "num_samples = 10 # number of samples to draw\n",
        "max_new_tokens = 500 # number of tokens generated in each sample\n",
        "temperature = 0.8 # 1.0 = no change, < 1.0 = less random, > 1.0 = more random, in predictions\n",
        "top_k = 200 # retain only the top_k most likely tokens, clamp others to have 0 probability\n",
        "\n",
        "\n",
        "enc = tiktoken.get_encoding(\"gpt2\")\n",
        "encode = lambda s: enc.encode(s, allowed_special={\"<|endoftext|>\"})\n",
        "decode = lambda l: enc.decode(l)\n",
        "\n",
        "start_ids = encode(start)\n",
        "x = (torch.tensor(start_ids, dtype=torch.long, device=device)[None, ...])\n",
        "\n",
        "# model = finetuned_model\n",
        "# run generation\n",
        "with torch.no_grad():\n",
        "    with ctx:\n",
        "        for k in range(num_samples):\n",
        "            y = model.generate(x, max_new_tokens, temperature=temperature,\n",
        "                               top_k=top_k)\n",
        "            print(decode(y[0].tolist()))\n",
        "            print('---------------')"
      ]
    }
  ],
  "metadata": {
    "colab": {
      "provenance": [],
      "gpuType": "T4"
    },
    "language_info": {
      "name": "python"
    },
    "kernelspec": {
      "name": "python3",
      "display_name": "Python 3"
    },
    "accelerator": "GPU",
    "widgets": {
      "application/vnd.jupyter.widget-state+json": {
        "e28754bc8e5d4ffb99f34bbd7c083703": {
          "model_module": "@jupyter-widgets/controls",
          "model_name": "HBoxModel",
          "model_module_version": "1.5.0",
          "state": {
            "_dom_classes": [],
            "_model_module": "@jupyter-widgets/controls",
            "_model_module_version": "1.5.0",
            "_model_name": "HBoxModel",
            "_view_count": null,
            "_view_module": "@jupyter-widgets/controls",
            "_view_module_version": "1.5.0",
            "_view_name": "HBoxView",
            "box_style": "",
            "children": [
              "IPY_MODEL_1bcd3027f80749cea5b709d39a377108",
              "IPY_MODEL_07933b7af7bc400ea9bfc97ad4082dec",
              "IPY_MODEL_bbbcf1e0630b407282171af987a93cbf"
            ],
            "layout": "IPY_MODEL_77c4495ad9884244851a2a17701ca070"
          }
        },
        "1bcd3027f80749cea5b709d39a377108": {
          "model_module": "@jupyter-widgets/controls",
          "model_name": "HTMLModel",
          "model_module_version": "1.5.0",
          "state": {
            "_dom_classes": [],
            "_model_module": "@jupyter-widgets/controls",
            "_model_module_version": "1.5.0",
            "_model_name": "HTMLModel",
            "_view_count": null,
            "_view_module": "@jupyter-widgets/controls",
            "_view_module_version": "1.5.0",
            "_view_name": "HTMLView",
            "description": "",
            "description_tooltip": null,
            "layout": "IPY_MODEL_7721b1b4f84e4e2380752a3d5867ddbb",
            "placeholder": "​",
            "style": "IPY_MODEL_6a5a5bbae76c41dd93ba3baeb7decfb9",
            "value": "config.json: 100%"
          }
        },
        "07933b7af7bc400ea9bfc97ad4082dec": {
          "model_module": "@jupyter-widgets/controls",
          "model_name": "FloatProgressModel",
          "model_module_version": "1.5.0",
          "state": {
            "_dom_classes": [],
            "_model_module": "@jupyter-widgets/controls",
            "_model_module_version": "1.5.0",
            "_model_name": "FloatProgressModel",
            "_view_count": null,
            "_view_module": "@jupyter-widgets/controls",
            "_view_module_version": "1.5.0",
            "_view_name": "ProgressView",
            "bar_style": "success",
            "description": "",
            "description_tooltip": null,
            "layout": "IPY_MODEL_cc5ca86dd2854cbba85e73a6685e589f",
            "max": 665,
            "min": 0,
            "orientation": "horizontal",
            "style": "IPY_MODEL_f3c1eee4f3664b90a9546b0698232b47",
            "value": 665
          }
        },
        "bbbcf1e0630b407282171af987a93cbf": {
          "model_module": "@jupyter-widgets/controls",
          "model_name": "HTMLModel",
          "model_module_version": "1.5.0",
          "state": {
            "_dom_classes": [],
            "_model_module": "@jupyter-widgets/controls",
            "_model_module_version": "1.5.0",
            "_model_name": "HTMLModel",
            "_view_count": null,
            "_view_module": "@jupyter-widgets/controls",
            "_view_module_version": "1.5.0",
            "_view_name": "HTMLView",
            "description": "",
            "description_tooltip": null,
            "layout": "IPY_MODEL_353c9d4698924d53a14c4fa06ed37f5a",
            "placeholder": "​",
            "style": "IPY_MODEL_f9b062abcceb4028b4fb0e2533698038",
            "value": " 665/665 [00:00&lt;00:00, 10.3kB/s]"
          }
        },
        "77c4495ad9884244851a2a17701ca070": {
          "model_module": "@jupyter-widgets/base",
          "model_name": "LayoutModel",
          "model_module_version": "1.2.0",
          "state": {
            "_model_module": "@jupyter-widgets/base",
            "_model_module_version": "1.2.0",
            "_model_name": "LayoutModel",
            "_view_count": null,
            "_view_module": "@jupyter-widgets/base",
            "_view_module_version": "1.2.0",
            "_view_name": "LayoutView",
            "align_content": null,
            "align_items": null,
            "align_self": null,
            "border": null,
            "bottom": null,
            "display": null,
            "flex": null,
            "flex_flow": null,
            "grid_area": null,
            "grid_auto_columns": null,
            "grid_auto_flow": null,
            "grid_auto_rows": null,
            "grid_column": null,
            "grid_gap": null,
            "grid_row": null,
            "grid_template_areas": null,
            "grid_template_columns": null,
            "grid_template_rows": null,
            "height": null,
            "justify_content": null,
            "justify_items": null,
            "left": null,
            "margin": null,
            "max_height": null,
            "max_width": null,
            "min_height": null,
            "min_width": null,
            "object_fit": null,
            "object_position": null,
            "order": null,
            "overflow": null,
            "overflow_x": null,
            "overflow_y": null,
            "padding": null,
            "right": null,
            "top": null,
            "visibility": null,
            "width": null
          }
        },
        "7721b1b4f84e4e2380752a3d5867ddbb": {
          "model_module": "@jupyter-widgets/base",
          "model_name": "LayoutModel",
          "model_module_version": "1.2.0",
          "state": {
            "_model_module": "@jupyter-widgets/base",
            "_model_module_version": "1.2.0",
            "_model_name": "LayoutModel",
            "_view_count": null,
            "_view_module": "@jupyter-widgets/base",
            "_view_module_version": "1.2.0",
            "_view_name": "LayoutView",
            "align_content": null,
            "align_items": null,
            "align_self": null,
            "border": null,
            "bottom": null,
            "display": null,
            "flex": null,
            "flex_flow": null,
            "grid_area": null,
            "grid_auto_columns": null,
            "grid_auto_flow": null,
            "grid_auto_rows": null,
            "grid_column": null,
            "grid_gap": null,
            "grid_row": null,
            "grid_template_areas": null,
            "grid_template_columns": null,
            "grid_template_rows": null,
            "height": null,
            "justify_content": null,
            "justify_items": null,
            "left": null,
            "margin": null,
            "max_height": null,
            "max_width": null,
            "min_height": null,
            "min_width": null,
            "object_fit": null,
            "object_position": null,
            "order": null,
            "overflow": null,
            "overflow_x": null,
            "overflow_y": null,
            "padding": null,
            "right": null,
            "top": null,
            "visibility": null,
            "width": null
          }
        },
        "6a5a5bbae76c41dd93ba3baeb7decfb9": {
          "model_module": "@jupyter-widgets/controls",
          "model_name": "DescriptionStyleModel",
          "model_module_version": "1.5.0",
          "state": {
            "_model_module": "@jupyter-widgets/controls",
            "_model_module_version": "1.5.0",
            "_model_name": "DescriptionStyleModel",
            "_view_count": null,
            "_view_module": "@jupyter-widgets/base",
            "_view_module_version": "1.2.0",
            "_view_name": "StyleView",
            "description_width": ""
          }
        },
        "cc5ca86dd2854cbba85e73a6685e589f": {
          "model_module": "@jupyter-widgets/base",
          "model_name": "LayoutModel",
          "model_module_version": "1.2.0",
          "state": {
            "_model_module": "@jupyter-widgets/base",
            "_model_module_version": "1.2.0",
            "_model_name": "LayoutModel",
            "_view_count": null,
            "_view_module": "@jupyter-widgets/base",
            "_view_module_version": "1.2.0",
            "_view_name": "LayoutView",
            "align_content": null,
            "align_items": null,
            "align_self": null,
            "border": null,
            "bottom": null,
            "display": null,
            "flex": null,
            "flex_flow": null,
            "grid_area": null,
            "grid_auto_columns": null,
            "grid_auto_flow": null,
            "grid_auto_rows": null,
            "grid_column": null,
            "grid_gap": null,
            "grid_row": null,
            "grid_template_areas": null,
            "grid_template_columns": null,
            "grid_template_rows": null,
            "height": null,
            "justify_content": null,
            "justify_items": null,
            "left": null,
            "margin": null,
            "max_height": null,
            "max_width": null,
            "min_height": null,
            "min_width": null,
            "object_fit": null,
            "object_position": null,
            "order": null,
            "overflow": null,
            "overflow_x": null,
            "overflow_y": null,
            "padding": null,
            "right": null,
            "top": null,
            "visibility": null,
            "width": null
          }
        },
        "f3c1eee4f3664b90a9546b0698232b47": {
          "model_module": "@jupyter-widgets/controls",
          "model_name": "ProgressStyleModel",
          "model_module_version": "1.5.0",
          "state": {
            "_model_module": "@jupyter-widgets/controls",
            "_model_module_version": "1.5.0",
            "_model_name": "ProgressStyleModel",
            "_view_count": null,
            "_view_module": "@jupyter-widgets/base",
            "_view_module_version": "1.2.0",
            "_view_name": "StyleView",
            "bar_color": null,
            "description_width": ""
          }
        },
        "353c9d4698924d53a14c4fa06ed37f5a": {
          "model_module": "@jupyter-widgets/base",
          "model_name": "LayoutModel",
          "model_module_version": "1.2.0",
          "state": {
            "_model_module": "@jupyter-widgets/base",
            "_model_module_version": "1.2.0",
            "_model_name": "LayoutModel",
            "_view_count": null,
            "_view_module": "@jupyter-widgets/base",
            "_view_module_version": "1.2.0",
            "_view_name": "LayoutView",
            "align_content": null,
            "align_items": null,
            "align_self": null,
            "border": null,
            "bottom": null,
            "display": null,
            "flex": null,
            "flex_flow": null,
            "grid_area": null,
            "grid_auto_columns": null,
            "grid_auto_flow": null,
            "grid_auto_rows": null,
            "grid_column": null,
            "grid_gap": null,
            "grid_row": null,
            "grid_template_areas": null,
            "grid_template_columns": null,
            "grid_template_rows": null,
            "height": null,
            "justify_content": null,
            "justify_items": null,
            "left": null,
            "margin": null,
            "max_height": null,
            "max_width": null,
            "min_height": null,
            "min_width": null,
            "object_fit": null,
            "object_position": null,
            "order": null,
            "overflow": null,
            "overflow_x": null,
            "overflow_y": null,
            "padding": null,
            "right": null,
            "top": null,
            "visibility": null,
            "width": null
          }
        },
        "f9b062abcceb4028b4fb0e2533698038": {
          "model_module": "@jupyter-widgets/controls",
          "model_name": "DescriptionStyleModel",
          "model_module_version": "1.5.0",
          "state": {
            "_model_module": "@jupyter-widgets/controls",
            "_model_module_version": "1.5.0",
            "_model_name": "DescriptionStyleModel",
            "_view_count": null,
            "_view_module": "@jupyter-widgets/base",
            "_view_module_version": "1.2.0",
            "_view_name": "StyleView",
            "description_width": ""
          }
        },
        "b693892233a04068803039258f3441b8": {
          "model_module": "@jupyter-widgets/controls",
          "model_name": "HBoxModel",
          "model_module_version": "1.5.0",
          "state": {
            "_dom_classes": [],
            "_model_module": "@jupyter-widgets/controls",
            "_model_module_version": "1.5.0",
            "_model_name": "HBoxModel",
            "_view_count": null,
            "_view_module": "@jupyter-widgets/controls",
            "_view_module_version": "1.5.0",
            "_view_name": "HBoxView",
            "box_style": "",
            "children": [
              "IPY_MODEL_fe14f779794948fbbf4ac3877e37adff",
              "IPY_MODEL_f427f9caba2e4e2ea8ae625cf636736e",
              "IPY_MODEL_55cab8e4481d434a931deb54b0980d94"
            ],
            "layout": "IPY_MODEL_f1b6f3ae91d1465299dbd930634c2ba2"
          }
        },
        "fe14f779794948fbbf4ac3877e37adff": {
          "model_module": "@jupyter-widgets/controls",
          "model_name": "HTMLModel",
          "model_module_version": "1.5.0",
          "state": {
            "_dom_classes": [],
            "_model_module": "@jupyter-widgets/controls",
            "_model_module_version": "1.5.0",
            "_model_name": "HTMLModel",
            "_view_count": null,
            "_view_module": "@jupyter-widgets/controls",
            "_view_module_version": "1.5.0",
            "_view_name": "HTMLView",
            "description": "",
            "description_tooltip": null,
            "layout": "IPY_MODEL_4df0f6184adc48bc9ef651dc89899006",
            "placeholder": "​",
            "style": "IPY_MODEL_d2139eaeb0e64916a9807a0db36b5a57",
            "value": "model.safetensors: 100%"
          }
        },
        "f427f9caba2e4e2ea8ae625cf636736e": {
          "model_module": "@jupyter-widgets/controls",
          "model_name": "FloatProgressModel",
          "model_module_version": "1.5.0",
          "state": {
            "_dom_classes": [],
            "_model_module": "@jupyter-widgets/controls",
            "_model_module_version": "1.5.0",
            "_model_name": "FloatProgressModel",
            "_view_count": null,
            "_view_module": "@jupyter-widgets/controls",
            "_view_module_version": "1.5.0",
            "_view_name": "ProgressView",
            "bar_style": "success",
            "description": "",
            "description_tooltip": null,
            "layout": "IPY_MODEL_27523ed353954c069dae0d95ffaf3bfe",
            "max": 548105171,
            "min": 0,
            "orientation": "horizontal",
            "style": "IPY_MODEL_1628651e34ca4031a494e09f471b49d1",
            "value": 548105171
          }
        },
        "55cab8e4481d434a931deb54b0980d94": {
          "model_module": "@jupyter-widgets/controls",
          "model_name": "HTMLModel",
          "model_module_version": "1.5.0",
          "state": {
            "_dom_classes": [],
            "_model_module": "@jupyter-widgets/controls",
            "_model_module_version": "1.5.0",
            "_model_name": "HTMLModel",
            "_view_count": null,
            "_view_module": "@jupyter-widgets/controls",
            "_view_module_version": "1.5.0",
            "_view_name": "HTMLView",
            "description": "",
            "description_tooltip": null,
            "layout": "IPY_MODEL_89ee7d0989914533ad6268b73695ff40",
            "placeholder": "​",
            "style": "IPY_MODEL_e93a61bc2deb4dbbb9aa15e1edf246fb",
            "value": " 548M/548M [00:04&lt;00:00, 102MB/s]"
          }
        },
        "f1b6f3ae91d1465299dbd930634c2ba2": {
          "model_module": "@jupyter-widgets/base",
          "model_name": "LayoutModel",
          "model_module_version": "1.2.0",
          "state": {
            "_model_module": "@jupyter-widgets/base",
            "_model_module_version": "1.2.0",
            "_model_name": "LayoutModel",
            "_view_count": null,
            "_view_module": "@jupyter-widgets/base",
            "_view_module_version": "1.2.0",
            "_view_name": "LayoutView",
            "align_content": null,
            "align_items": null,
            "align_self": null,
            "border": null,
            "bottom": null,
            "display": null,
            "flex": null,
            "flex_flow": null,
            "grid_area": null,
            "grid_auto_columns": null,
            "grid_auto_flow": null,
            "grid_auto_rows": null,
            "grid_column": null,
            "grid_gap": null,
            "grid_row": null,
            "grid_template_areas": null,
            "grid_template_columns": null,
            "grid_template_rows": null,
            "height": null,
            "justify_content": null,
            "justify_items": null,
            "left": null,
            "margin": null,
            "max_height": null,
            "max_width": null,
            "min_height": null,
            "min_width": null,
            "object_fit": null,
            "object_position": null,
            "order": null,
            "overflow": null,
            "overflow_x": null,
            "overflow_y": null,
            "padding": null,
            "right": null,
            "top": null,
            "visibility": null,
            "width": null
          }
        },
        "4df0f6184adc48bc9ef651dc89899006": {
          "model_module": "@jupyter-widgets/base",
          "model_name": "LayoutModel",
          "model_module_version": "1.2.0",
          "state": {
            "_model_module": "@jupyter-widgets/base",
            "_model_module_version": "1.2.0",
            "_model_name": "LayoutModel",
            "_view_count": null,
            "_view_module": "@jupyter-widgets/base",
            "_view_module_version": "1.2.0",
            "_view_name": "LayoutView",
            "align_content": null,
            "align_items": null,
            "align_self": null,
            "border": null,
            "bottom": null,
            "display": null,
            "flex": null,
            "flex_flow": null,
            "grid_area": null,
            "grid_auto_columns": null,
            "grid_auto_flow": null,
            "grid_auto_rows": null,
            "grid_column": null,
            "grid_gap": null,
            "grid_row": null,
            "grid_template_areas": null,
            "grid_template_columns": null,
            "grid_template_rows": null,
            "height": null,
            "justify_content": null,
            "justify_items": null,
            "left": null,
            "margin": null,
            "max_height": null,
            "max_width": null,
            "min_height": null,
            "min_width": null,
            "object_fit": null,
            "object_position": null,
            "order": null,
            "overflow": null,
            "overflow_x": null,
            "overflow_y": null,
            "padding": null,
            "right": null,
            "top": null,
            "visibility": null,
            "width": null
          }
        },
        "d2139eaeb0e64916a9807a0db36b5a57": {
          "model_module": "@jupyter-widgets/controls",
          "model_name": "DescriptionStyleModel",
          "model_module_version": "1.5.0",
          "state": {
            "_model_module": "@jupyter-widgets/controls",
            "_model_module_version": "1.5.0",
            "_model_name": "DescriptionStyleModel",
            "_view_count": null,
            "_view_module": "@jupyter-widgets/base",
            "_view_module_version": "1.2.0",
            "_view_name": "StyleView",
            "description_width": ""
          }
        },
        "27523ed353954c069dae0d95ffaf3bfe": {
          "model_module": "@jupyter-widgets/base",
          "model_name": "LayoutModel",
          "model_module_version": "1.2.0",
          "state": {
            "_model_module": "@jupyter-widgets/base",
            "_model_module_version": "1.2.0",
            "_model_name": "LayoutModel",
            "_view_count": null,
            "_view_module": "@jupyter-widgets/base",
            "_view_module_version": "1.2.0",
            "_view_name": "LayoutView",
            "align_content": null,
            "align_items": null,
            "align_self": null,
            "border": null,
            "bottom": null,
            "display": null,
            "flex": null,
            "flex_flow": null,
            "grid_area": null,
            "grid_auto_columns": null,
            "grid_auto_flow": null,
            "grid_auto_rows": null,
            "grid_column": null,
            "grid_gap": null,
            "grid_row": null,
            "grid_template_areas": null,
            "grid_template_columns": null,
            "grid_template_rows": null,
            "height": null,
            "justify_content": null,
            "justify_items": null,
            "left": null,
            "margin": null,
            "max_height": null,
            "max_width": null,
            "min_height": null,
            "min_width": null,
            "object_fit": null,
            "object_position": null,
            "order": null,
            "overflow": null,
            "overflow_x": null,
            "overflow_y": null,
            "padding": null,
            "right": null,
            "top": null,
            "visibility": null,
            "width": null
          }
        },
        "1628651e34ca4031a494e09f471b49d1": {
          "model_module": "@jupyter-widgets/controls",
          "model_name": "ProgressStyleModel",
          "model_module_version": "1.5.0",
          "state": {
            "_model_module": "@jupyter-widgets/controls",
            "_model_module_version": "1.5.0",
            "_model_name": "ProgressStyleModel",
            "_view_count": null,
            "_view_module": "@jupyter-widgets/base",
            "_view_module_version": "1.2.0",
            "_view_name": "StyleView",
            "bar_color": null,
            "description_width": ""
          }
        },
        "89ee7d0989914533ad6268b73695ff40": {
          "model_module": "@jupyter-widgets/base",
          "model_name": "LayoutModel",
          "model_module_version": "1.2.0",
          "state": {
            "_model_module": "@jupyter-widgets/base",
            "_model_module_version": "1.2.0",
            "_model_name": "LayoutModel",
            "_view_count": null,
            "_view_module": "@jupyter-widgets/base",
            "_view_module_version": "1.2.0",
            "_view_name": "LayoutView",
            "align_content": null,
            "align_items": null,
            "align_self": null,
            "border": null,
            "bottom": null,
            "display": null,
            "flex": null,
            "flex_flow": null,
            "grid_area": null,
            "grid_auto_columns": null,
            "grid_auto_flow": null,
            "grid_auto_rows": null,
            "grid_column": null,
            "grid_gap": null,
            "grid_row": null,
            "grid_template_areas": null,
            "grid_template_columns": null,
            "grid_template_rows": null,
            "height": null,
            "justify_content": null,
            "justify_items": null,
            "left": null,
            "margin": null,
            "max_height": null,
            "max_width": null,
            "min_height": null,
            "min_width": null,
            "object_fit": null,
            "object_position": null,
            "order": null,
            "overflow": null,
            "overflow_x": null,
            "overflow_y": null,
            "padding": null,
            "right": null,
            "top": null,
            "visibility": null,
            "width": null
          }
        },
        "e93a61bc2deb4dbbb9aa15e1edf246fb": {
          "model_module": "@jupyter-widgets/controls",
          "model_name": "DescriptionStyleModel",
          "model_module_version": "1.5.0",
          "state": {
            "_model_module": "@jupyter-widgets/controls",
            "_model_module_version": "1.5.0",
            "_model_name": "DescriptionStyleModel",
            "_view_count": null,
            "_view_module": "@jupyter-widgets/base",
            "_view_module_version": "1.2.0",
            "_view_name": "StyleView",
            "description_width": ""
          }
        },
        "25ee50b5ea48458cb80104cf47fd7f96": {
          "model_module": "@jupyter-widgets/controls",
          "model_name": "HBoxModel",
          "model_module_version": "1.5.0",
          "state": {
            "_dom_classes": [],
            "_model_module": "@jupyter-widgets/controls",
            "_model_module_version": "1.5.0",
            "_model_name": "HBoxModel",
            "_view_count": null,
            "_view_module": "@jupyter-widgets/controls",
            "_view_module_version": "1.5.0",
            "_view_name": "HBoxView",
            "box_style": "",
            "children": [
              "IPY_MODEL_50f053e2c21d40d98e2c9042b70f0812",
              "IPY_MODEL_6d4e3670542d4c16a9502b34a9700ab4",
              "IPY_MODEL_ca23732291b34016956ae2b4625142a8"
            ],
            "layout": "IPY_MODEL_a1cccd5552d34798a690635460a534b4"
          }
        },
        "50f053e2c21d40d98e2c9042b70f0812": {
          "model_module": "@jupyter-widgets/controls",
          "model_name": "HTMLModel",
          "model_module_version": "1.5.0",
          "state": {
            "_dom_classes": [],
            "_model_module": "@jupyter-widgets/controls",
            "_model_module_version": "1.5.0",
            "_model_name": "HTMLModel",
            "_view_count": null,
            "_view_module": "@jupyter-widgets/controls",
            "_view_module_version": "1.5.0",
            "_view_name": "HTMLView",
            "description": "",
            "description_tooltip": null,
            "layout": "IPY_MODEL_4fa07f7e79504679872b944f20b3150f",
            "placeholder": "​",
            "style": "IPY_MODEL_b283b7924a59452d89dfc86add350b28",
            "value": "generation_config.json: 100%"
          }
        },
        "6d4e3670542d4c16a9502b34a9700ab4": {
          "model_module": "@jupyter-widgets/controls",
          "model_name": "FloatProgressModel",
          "model_module_version": "1.5.0",
          "state": {
            "_dom_classes": [],
            "_model_module": "@jupyter-widgets/controls",
            "_model_module_version": "1.5.0",
            "_model_name": "FloatProgressModel",
            "_view_count": null,
            "_view_module": "@jupyter-widgets/controls",
            "_view_module_version": "1.5.0",
            "_view_name": "ProgressView",
            "bar_style": "success",
            "description": "",
            "description_tooltip": null,
            "layout": "IPY_MODEL_a9f4bc066ee64985b886442f226b76f9",
            "max": 124,
            "min": 0,
            "orientation": "horizontal",
            "style": "IPY_MODEL_aadc3d89592b43378f2bffafb632b535",
            "value": 124
          }
        },
        "ca23732291b34016956ae2b4625142a8": {
          "model_module": "@jupyter-widgets/controls",
          "model_name": "HTMLModel",
          "model_module_version": "1.5.0",
          "state": {
            "_dom_classes": [],
            "_model_module": "@jupyter-widgets/controls",
            "_model_module_version": "1.5.0",
            "_model_name": "HTMLModel",
            "_view_count": null,
            "_view_module": "@jupyter-widgets/controls",
            "_view_module_version": "1.5.0",
            "_view_name": "HTMLView",
            "description": "",
            "description_tooltip": null,
            "layout": "IPY_MODEL_7db0348cd0554781a5161e8bd291e985",
            "placeholder": "​",
            "style": "IPY_MODEL_02e0afa2c7d645d28565d2168b8e7f61",
            "value": " 124/124 [00:00&lt;00:00, 2.60kB/s]"
          }
        },
        "a1cccd5552d34798a690635460a534b4": {
          "model_module": "@jupyter-widgets/base",
          "model_name": "LayoutModel",
          "model_module_version": "1.2.0",
          "state": {
            "_model_module": "@jupyter-widgets/base",
            "_model_module_version": "1.2.0",
            "_model_name": "LayoutModel",
            "_view_count": null,
            "_view_module": "@jupyter-widgets/base",
            "_view_module_version": "1.2.0",
            "_view_name": "LayoutView",
            "align_content": null,
            "align_items": null,
            "align_self": null,
            "border": null,
            "bottom": null,
            "display": null,
            "flex": null,
            "flex_flow": null,
            "grid_area": null,
            "grid_auto_columns": null,
            "grid_auto_flow": null,
            "grid_auto_rows": null,
            "grid_column": null,
            "grid_gap": null,
            "grid_row": null,
            "grid_template_areas": null,
            "grid_template_columns": null,
            "grid_template_rows": null,
            "height": null,
            "justify_content": null,
            "justify_items": null,
            "left": null,
            "margin": null,
            "max_height": null,
            "max_width": null,
            "min_height": null,
            "min_width": null,
            "object_fit": null,
            "object_position": null,
            "order": null,
            "overflow": null,
            "overflow_x": null,
            "overflow_y": null,
            "padding": null,
            "right": null,
            "top": null,
            "visibility": null,
            "width": null
          }
        },
        "4fa07f7e79504679872b944f20b3150f": {
          "model_module": "@jupyter-widgets/base",
          "model_name": "LayoutModel",
          "model_module_version": "1.2.0",
          "state": {
            "_model_module": "@jupyter-widgets/base",
            "_model_module_version": "1.2.0",
            "_model_name": "LayoutModel",
            "_view_count": null,
            "_view_module": "@jupyter-widgets/base",
            "_view_module_version": "1.2.0",
            "_view_name": "LayoutView",
            "align_content": null,
            "align_items": null,
            "align_self": null,
            "border": null,
            "bottom": null,
            "display": null,
            "flex": null,
            "flex_flow": null,
            "grid_area": null,
            "grid_auto_columns": null,
            "grid_auto_flow": null,
            "grid_auto_rows": null,
            "grid_column": null,
            "grid_gap": null,
            "grid_row": null,
            "grid_template_areas": null,
            "grid_template_columns": null,
            "grid_template_rows": null,
            "height": null,
            "justify_content": null,
            "justify_items": null,
            "left": null,
            "margin": null,
            "max_height": null,
            "max_width": null,
            "min_height": null,
            "min_width": null,
            "object_fit": null,
            "object_position": null,
            "order": null,
            "overflow": null,
            "overflow_x": null,
            "overflow_y": null,
            "padding": null,
            "right": null,
            "top": null,
            "visibility": null,
            "width": null
          }
        },
        "b283b7924a59452d89dfc86add350b28": {
          "model_module": "@jupyter-widgets/controls",
          "model_name": "DescriptionStyleModel",
          "model_module_version": "1.5.0",
          "state": {
            "_model_module": "@jupyter-widgets/controls",
            "_model_module_version": "1.5.0",
            "_model_name": "DescriptionStyleModel",
            "_view_count": null,
            "_view_module": "@jupyter-widgets/base",
            "_view_module_version": "1.2.0",
            "_view_name": "StyleView",
            "description_width": ""
          }
        },
        "a9f4bc066ee64985b886442f226b76f9": {
          "model_module": "@jupyter-widgets/base",
          "model_name": "LayoutModel",
          "model_module_version": "1.2.0",
          "state": {
            "_model_module": "@jupyter-widgets/base",
            "_model_module_version": "1.2.0",
            "_model_name": "LayoutModel",
            "_view_count": null,
            "_view_module": "@jupyter-widgets/base",
            "_view_module_version": "1.2.0",
            "_view_name": "LayoutView",
            "align_content": null,
            "align_items": null,
            "align_self": null,
            "border": null,
            "bottom": null,
            "display": null,
            "flex": null,
            "flex_flow": null,
            "grid_area": null,
            "grid_auto_columns": null,
            "grid_auto_flow": null,
            "grid_auto_rows": null,
            "grid_column": null,
            "grid_gap": null,
            "grid_row": null,
            "grid_template_areas": null,
            "grid_template_columns": null,
            "grid_template_rows": null,
            "height": null,
            "justify_content": null,
            "justify_items": null,
            "left": null,
            "margin": null,
            "max_height": null,
            "max_width": null,
            "min_height": null,
            "min_width": null,
            "object_fit": null,
            "object_position": null,
            "order": null,
            "overflow": null,
            "overflow_x": null,
            "overflow_y": null,
            "padding": null,
            "right": null,
            "top": null,
            "visibility": null,
            "width": null
          }
        },
        "aadc3d89592b43378f2bffafb632b535": {
          "model_module": "@jupyter-widgets/controls",
          "model_name": "ProgressStyleModel",
          "model_module_version": "1.5.0",
          "state": {
            "_model_module": "@jupyter-widgets/controls",
            "_model_module_version": "1.5.0",
            "_model_name": "ProgressStyleModel",
            "_view_count": null,
            "_view_module": "@jupyter-widgets/base",
            "_view_module_version": "1.2.0",
            "_view_name": "StyleView",
            "bar_color": null,
            "description_width": ""
          }
        },
        "7db0348cd0554781a5161e8bd291e985": {
          "model_module": "@jupyter-widgets/base",
          "model_name": "LayoutModel",
          "model_module_version": "1.2.0",
          "state": {
            "_model_module": "@jupyter-widgets/base",
            "_model_module_version": "1.2.0",
            "_model_name": "LayoutModel",
            "_view_count": null,
            "_view_module": "@jupyter-widgets/base",
            "_view_module_version": "1.2.0",
            "_view_name": "LayoutView",
            "align_content": null,
            "align_items": null,
            "align_self": null,
            "border": null,
            "bottom": null,
            "display": null,
            "flex": null,
            "flex_flow": null,
            "grid_area": null,
            "grid_auto_columns": null,
            "grid_auto_flow": null,
            "grid_auto_rows": null,
            "grid_column": null,
            "grid_gap": null,
            "grid_row": null,
            "grid_template_areas": null,
            "grid_template_columns": null,
            "grid_template_rows": null,
            "height": null,
            "justify_content": null,
            "justify_items": null,
            "left": null,
            "margin": null,
            "max_height": null,
            "max_width": null,
            "min_height": null,
            "min_width": null,
            "object_fit": null,
            "object_position": null,
            "order": null,
            "overflow": null,
            "overflow_x": null,
            "overflow_y": null,
            "padding": null,
            "right": null,
            "top": null,
            "visibility": null,
            "width": null
          }
        },
        "02e0afa2c7d645d28565d2168b8e7f61": {
          "model_module": "@jupyter-widgets/controls",
          "model_name": "DescriptionStyleModel",
          "model_module_version": "1.5.0",
          "state": {
            "_model_module": "@jupyter-widgets/controls",
            "_model_module_version": "1.5.0",
            "_model_name": "DescriptionStyleModel",
            "_view_count": null,
            "_view_module": "@jupyter-widgets/base",
            "_view_module_version": "1.2.0",
            "_view_name": "StyleView",
            "description_width": ""
          }
        }
      }
    }
  },
  "nbformat": 4,
  "nbformat_minor": 5
}